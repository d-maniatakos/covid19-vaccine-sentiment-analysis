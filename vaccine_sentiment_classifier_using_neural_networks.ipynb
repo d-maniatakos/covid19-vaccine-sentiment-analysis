{
  "nbformat": 4,
  "nbformat_minor": 0,
  "metadata": {
    "colab": {
      "name": "Untitled37.ipynb",
      "provenance": [],
      "authorship_tag": "ABX9TyOws4I0XneHPK3DGuXbiqnW",
      "include_colab_link": true
    },
    "kernelspec": {
      "name": "python3",
      "display_name": "Python 3"
    },
    "language_info": {
      "name": "python"
    }
  },
  "cells": [
    {
      "cell_type": "markdown",
      "metadata": {
        "id": "view-in-github",
        "colab_type": "text"
      },
      "source": [
        "<a href=\"https://colab.research.google.com/github/d-maniatakos/vaccine-sentiment-classifier/blob/master/vaccine_sentiment_classifier_using_neural_networks.ipynb\" target=\"_parent\"><img src=\"https://colab.research.google.com/assets/colab-badge.svg\" alt=\"Open In Colab\"/></a>"
      ]
    },
    {
      "cell_type": "markdown",
      "metadata": {
        "id": "6MGgWWk4-Sws"
      },
      "source": [
        "## **Modules Import**"
      ]
    },
    {
      "cell_type": "code",
      "metadata": {
        "id": "4h0TYkVY3ieJ",
        "outputId": "64b7fb1f-3be9-484e-e840-5286e0848a46",
        "colab": {
          "base_uri": "https://localhost:8080/"
        }
      },
      "source": [
        "import pandas as pd\n",
        "import numpy as np\n",
        "\n",
        "import torch\n",
        "import torchtext\n",
        "from torch import nn\n",
        "from torch.utils.data import DataLoader\n",
        "\n",
        "import nltk\n",
        "from nltk.stem import WordNetLemmatizer\n",
        "nltk.download('wordnet')\n",
        "\n",
        "from sklearn.feature_extraction.text import CountVectorizer, TfidfVectorizer\n",
        "from sklearn.metrics import precision_score, recall_score, f1_score, log_loss\n",
        "\n",
        "import matplotlib.pyplot as plt\n",
        "import seaborn as sns"
      ],
      "execution_count": 120,
      "outputs": [
        {
          "output_type": "stream",
          "name": "stdout",
          "text": [
            "[nltk_data] Downloading package wordnet to /root/nltk_data...\n",
            "[nltk_data]   Package wordnet is already up-to-date!\n"
          ]
        }
      ]
    },
    {
      "cell_type": "markdown",
      "source": [
        "## **Download Glove & Create Dictionary**"
      ],
      "metadata": {
        "id": "GN3eIf4QVcN5"
      }
    },
    {
      "cell_type": "code",
      "source": [
        "# !wget http://nlp.stanford.edu/data/glove.6B.zip\n",
        "# !unzip glove.6B.zip"
      ],
      "metadata": {
        "id": "oBEsnwOlO88s"
      },
      "execution_count": 121,
      "outputs": []
    },
    {
      "cell_type": "code",
      "source": [
        "glove = {}\n",
        "\n",
        "# read file line by line\n",
        "with open('glove.6B.50d.txt') as f:\n",
        "    lines = f.readlines()\n",
        "for line in lines:\n",
        "  vector = []\n",
        "  for dim in line.split(' ')[1:]:\n",
        "    vector.append(float(dim))\n",
        "  glove[line.split(' ')[0]] = np.array(vector)"
      ],
      "metadata": {
        "id": "DKvZQOXfO54w"
      },
      "execution_count": 122,
      "outputs": []
    },
    {
      "cell_type": "markdown",
      "metadata": {
        "id": "3MqaN0Qe-aLq"
      },
      "source": [
        "## **Data Import**"
      ]
    },
    {
      "cell_type": "code",
      "metadata": {
        "id": "Jvvl_FgODooA",
        "outputId": "639f6229-6d98-4bb8-b549-b47eafea4c22",
        "colab": {
          "base_uri": "https://localhost:8080/",
          "height": 206
        }
      },
      "source": [
        "# read datasets and ignore the first (index) column\n",
        "train_data =  pd.read_csv('vaccine_train_set.csv').iloc[:, 1:]\n",
        "validation_data = pd.read_csv('vaccine_validation_set.csv').iloc[:, 1:]    # <--- replace with test set path\n",
        "\n",
        "train_data.head()"
      ],
      "execution_count": 123,
      "outputs": [
        {
          "output_type": "execute_result",
          "data": {
            "text/html": [
              "<div>\n",
              "<style scoped>\n",
              "    .dataframe tbody tr th:only-of-type {\n",
              "        vertical-align: middle;\n",
              "    }\n",
              "\n",
              "    .dataframe tbody tr th {\n",
              "        vertical-align: top;\n",
              "    }\n",
              "\n",
              "    .dataframe thead th {\n",
              "        text-align: right;\n",
              "    }\n",
              "</style>\n",
              "<table border=\"1\" class=\"dataframe\">\n",
              "  <thead>\n",
              "    <tr style=\"text-align: right;\">\n",
              "      <th></th>\n",
              "      <th>tweet</th>\n",
              "      <th>label</th>\n",
              "    </tr>\n",
              "  </thead>\n",
              "  <tbody>\n",
              "    <tr>\n",
              "      <th>0</th>\n",
              "      <td>Sip N Shop Come thru right now #Marjais #Popul...</td>\n",
              "      <td>0</td>\n",
              "    </tr>\n",
              "    <tr>\n",
              "      <th>1</th>\n",
              "      <td>I don't know about you but My family and I wil...</td>\n",
              "      <td>1</td>\n",
              "    </tr>\n",
              "    <tr>\n",
              "      <th>2</th>\n",
              "      <td>@MSignorile Immunizations should be mandatory....</td>\n",
              "      <td>2</td>\n",
              "    </tr>\n",
              "    <tr>\n",
              "      <th>3</th>\n",
              "      <td>President Obama spoke in favor of vaccination ...</td>\n",
              "      <td>0</td>\n",
              "    </tr>\n",
              "    <tr>\n",
              "      <th>4</th>\n",
              "      <td>\"@myfoxla: Arizona monitoring hundreds for mea...</td>\n",
              "      <td>0</td>\n",
              "    </tr>\n",
              "  </tbody>\n",
              "</table>\n",
              "</div>"
            ],
            "text/plain": [
              "                                               tweet  label\n",
              "0  Sip N Shop Come thru right now #Marjais #Popul...      0\n",
              "1  I don't know about you but My family and I wil...      1\n",
              "2  @MSignorile Immunizations should be mandatory....      2\n",
              "3  President Obama spoke in favor of vaccination ...      0\n",
              "4  \"@myfoxla: Arizona monitoring hundreds for mea...      0"
            ]
          },
          "metadata": {},
          "execution_count": 123
        }
      ]
    },
    {
      "cell_type": "markdown",
      "metadata": {
        "id": "aPxtP__p658s"
      },
      "source": [
        "## **Pre-processing & Vectorization**"
      ]
    },
    {
      "cell_type": "code",
      "metadata": {
        "id": "yXoWoOumv9cj"
      },
      "source": [
        "# preprocess tweets texts before vectorization\n",
        "def preprocess(text):\n",
        "  text = text.lower()\n",
        "  unwanted_chars = ['@', '#', '!', '(', ')', '*', ':', ',']\n",
        "\n",
        "  for char in unwanted_chars:\n",
        "    text = text.replace(char, '')\n",
        "  lemmatizer = WordNetLemmatizer()\n",
        "\n",
        "  lemmatized_text = ''\n",
        "  for word in text.split():\n",
        "    lemmatized_text += lemmatizer.lemmatize(word) + ' '\n",
        "  return lemmatized_text\n",
        "\n",
        "\n",
        "# vectorize a tweet using glove word embedding\n",
        "def glove_vectorize(corpus, representation = 'average', vector_size = 50):\n",
        "  vectors = []\n",
        "  for document in corpus:\n",
        "    glove_vectors = []\n",
        "    document_size = 0\n",
        "    for token in document.split():\n",
        "      try:\n",
        "        glove_vectors.append(torch.from_numpy(glove[token]))\n",
        "        document_size += 1\n",
        "      except:\n",
        "        pass\n",
        "\n",
        "    try:\n",
        "      if representation == 'average':\n",
        "        vectors.append(torch.stack(glove_vectors, dim=0).sum(dim=0).div(document_size))\n",
        "      elif representation == 'sum':\n",
        "        vectors.append(torch.stack(glove_vectors, dim=0).sum(dim=0))\n",
        "    except:\n",
        "      vectors.append(torch.zeros(vector_size))\n",
        "    \n",
        "  return torch.stack(vectors, dim=0).to(torch.float32)\n",
        "\n",
        "\n",
        "# create a tf-idf or bow vectorizer (using the training set's tweets)\n",
        "def create_vectorizer(train_corpus, method='tf-idf', max_features=10000, ngram_range=(1, 2)):\n",
        "  if method == 'tf-idf':\n",
        "    vectorizer = TfidfVectorizer(max_features=max_features, ngram_range=ngram_range)\n",
        "  elif method == 'bow':\n",
        "    vectorizer = CountVectorizer(max_features=max_features, ngram_range=ngram_range)\n",
        "  return vectorizer.fit(train_corpus)\n",
        "\n",
        "# vectorize a dataset\n",
        "def vectorize(vectorizer, corpus):\n",
        "  return torch.from_numpy(vectorizer.transform(corpus).toarray()).to(torch.float32)\n",
        "\n",
        "\n",
        "train_data['tweet'] = train_data['tweet'].apply(preprocess)\n",
        "validation_data['tweet'] = validation_data['tweet'].apply(preprocess)\n",
        "\n",
        "train_corpus = train_data['tweet']\n",
        "validation_corpus = validation_data['tweet']\n",
        "\n",
        "# tf-idf vectorization approach\n",
        "tf_idf_vectorizer = create_vectorizer(train_data['tweet'])\n",
        "train_vector = vectorize(tf_idf_vectorizer, train_corpus)\n",
        "validation_vector = vectorize(tf_idf_vectorizer, validation_corpus)\n",
        "\n",
        "# glove vectorization approach\n",
        "# train_vector = glove_vectorize(train_corpus)\n",
        "# validation_vector = glove_vectorize(validation_corpus)\n",
        "\n",
        "x_train = train_vector\n",
        "y_train = torch.tensor(train_data['label'].values, dtype=torch.long)\n",
        "\n",
        "x_validation = validation_vector\n",
        "y_validation = torch.tensor(validation_data['label'].values, dtype=torch.long)"
      ],
      "execution_count": 124,
      "outputs": []
    },
    {
      "cell_type": "markdown",
      "source": [
        "## **First Model Creation & Training**"
      ],
      "metadata": {
        "id": "uTs2bhunafr2"
      }
    },
    {
      "cell_type": "code",
      "metadata": {
        "id": "BdwFr0n65_YU",
        "colab": {
          "base_uri": "https://localhost:8080/"
        },
        "outputId": "fdc50504-7712-45ac-f460-1c171b82826c"
      },
      "source": [
        "class NeuralNetwork(nn.Module):\n",
        "  def __init__(self, x_size, num_of_classes, hidden_size):\n",
        "    super(NeuralNetwork, self).__init__()\n",
        "    self.layer1 = nn.Linear(x_size, hidden_size)\n",
        "    self.layer2 = nn.ReLU()\n",
        "    self.layer3 = nn.Linear(hidden_size, num_of_classes)\n",
        "\n",
        "  def forward(self, x):\n",
        "    out = self.layer1(x)\n",
        "    out = self.layer2(out)\n",
        "    out = self.layer3(out)\n",
        "    return out\n",
        "\n",
        "# hyperparameters\n",
        "input_size = 10000\n",
        "hidden_layer1_size = 50\n",
        "output_size = 3\n",
        "num_of_epochs = 20\n",
        "batch_size = 100\n",
        "learning_rate = 0.0001\n",
        "loss_function = nn.CrossEntropyLoss()\n",
        "model = NeuralNetwork(input_size, output_size, hidden_size)\n",
        "optimizer = torch.optim.Adam(model.parameters(), lr=learning_rate)\n",
        "\n",
        "train_dataset = torch.utils.data.TensorDataset(x_train, y_train)\n",
        "train_dataloader = torch.utils.data.DataLoader(train_dataset, batch_size=64, shuffle=True)\n",
        "\n",
        "training_loss = []\n",
        "validation_loss = []\n",
        "\n",
        "for epoch in range(num_of_epochs):\n",
        "  batch_losses = []\n",
        "\n",
        "  for index, (x, y) in enumerate(train_dataloader):\n",
        "    y_pred = model(x)\n",
        "    loss = loss_function(y_pred, y)\n",
        "    batch_losses.append(loss.item())\n",
        "\n",
        "    optimizer.zero_grad()\n",
        "    loss.backward()\n",
        "    optimizer.step()\n",
        "\n",
        "  predictions = []\n",
        "\n",
        "\n",
        "  y_pred_validation = model(x_validation)\n",
        "  val_loss = loss_function(y_pred_validation, y_validation)\n",
        "\n",
        "  \n",
        "  print('Epoch: ' + str(epoch+1) + '/' + str(num_of_epochs) + ' Training Loss: ' + str(round(sum(batch_losses)/len(train_dataloader), 4)) + ' Validation Loss: ' + str(round(val_loss.item(), 4)))\n",
        "  print('----------------------------------------------------------')\n",
        "  training_loss.append((sum(batch_losses)/len(train_dataloader)))\n",
        "  validation_loss.append(val_loss.item())"
      ],
      "execution_count": 125,
      "outputs": [
        {
          "output_type": "stream",
          "name": "stdout",
          "text": [
            "Epoch: 1/20 Training Loss: 1.0943 Validation Loss: 1.0619\n",
            "----------------------------------------------------------\n",
            "Epoch: 2/20 Training Loss: 1.0152 Validation Loss: 0.9722\n",
            "----------------------------------------------------------\n",
            "Epoch: 3/20 Training Loss: 0.9225 Validation Loss: 0.8959\n",
            "----------------------------------------------------------\n",
            "Epoch: 4/20 Training Loss: 0.8476 Validation Loss: 0.8403\n",
            "----------------------------------------------------------\n",
            "Epoch: 5/20 Training Loss: 0.7884 Validation Loss: 0.7977\n",
            "----------------------------------------------------------\n",
            "Epoch: 6/20 Training Loss: 0.74 Validation Loss: 0.7644\n",
            "----------------------------------------------------------\n",
            "Epoch: 7/20 Training Loss: 0.6989 Validation Loss: 0.7376\n",
            "----------------------------------------------------------\n",
            "Epoch: 8/20 Training Loss: 0.6634 Validation Loss: 0.7162\n",
            "----------------------------------------------------------\n",
            "Epoch: 9/20 Training Loss: 0.6321 Validation Loss: 0.6986\n",
            "----------------------------------------------------------\n",
            "Epoch: 10/20 Training Loss: 0.6045 Validation Loss: 0.6841\n",
            "----------------------------------------------------------\n",
            "Epoch: 11/20 Training Loss: 0.5799 Validation Loss: 0.6725\n",
            "----------------------------------------------------------\n",
            "Epoch: 12/20 Training Loss: 0.5572 Validation Loss: 0.6629\n",
            "----------------------------------------------------------\n",
            "Epoch: 13/20 Training Loss: 0.5365 Validation Loss: 0.6551\n",
            "----------------------------------------------------------\n",
            "Epoch: 14/20 Training Loss: 0.5173 Validation Loss: 0.6487\n",
            "----------------------------------------------------------\n",
            "Epoch: 15/20 Training Loss: 0.4998 Validation Loss: 0.6437\n",
            "----------------------------------------------------------\n",
            "Epoch: 16/20 Training Loss: 0.483 Validation Loss: 0.6399\n",
            "----------------------------------------------------------\n",
            "Epoch: 17/20 Training Loss: 0.4673 Validation Loss: 0.637\n",
            "----------------------------------------------------------\n",
            "Epoch: 18/20 Training Loss: 0.4524 Validation Loss: 0.635\n",
            "----------------------------------------------------------\n",
            "Epoch: 19/20 Training Loss: 0.4387 Validation Loss: 0.6335\n",
            "----------------------------------------------------------\n",
            "Epoch: 20/20 Training Loss: 0.4251 Validation Loss: 0.6334\n",
            "----------------------------------------------------------\n"
          ]
        }
      ]
    },
    {
      "cell_type": "markdown",
      "source": [
        "## **First Model Evaluation**"
      ],
      "metadata": {
        "id": "cMFKq_m-JoWx"
      }
    },
    {
      "cell_type": "code",
      "source": [
        "predictions = []\n",
        "predictions_possibilities = []\n",
        "\n",
        "for i in range(validation_vector.size()[0]):\n",
        "  prediction = model.forward(validation_vector[i])\n",
        "  predictions.append(torch.argmax(prediction).item())\n",
        "  # print(prediction)\n",
        "\n",
        "  predictions_possibilities.append(prediction.tolist())\n",
        "\n",
        "precision = precision_score(y_validation.tolist(), predictions, average='weighted')\n",
        "recall = recall_score(y_validation.tolist(), predictions, average='weighted')\n",
        "f1 = f1_score(y_validation.tolist(), predictions, average='weighted')\n",
        "\n",
        "# plot the epoch vs loss curve\n",
        "plt.figure(figsize=(10, 5), dpi=100)\n",
        "plt.title('Epoch vs Loss Curve')\n",
        "plt.xlabel('Epoch')\n",
        "plt.ylabel('Loss')\n",
        "sns.lineplot(x=range(1, num_of_epochs+1), y=training_loss,  marker=\"o\")\n",
        "sns.lineplot(x=range(1, num_of_epochs+1), y=validation_loss,  marker=\"o\")\n",
        "plt.xticks(range(1, num_of_epochs+1))\n",
        "plt.legend(['Training Loss', 'Validation Loss'])\n",
        "plt.grid()\n",
        "plt.show()\n",
        "\n",
        "# plot scores\n",
        "plt.figure(figsize=(10, 5), dpi=100)\n",
        "plt.title('Metrics')\n",
        "sns.barplot(x=['Precision', 'Recall', 'F1-Score'], y=[precision, recall, f1], palette='Blues_r')\n",
        "for index, value in enumerate([precision, recall, f1]):\n",
        "    plt.text(index-0.1, value+0.005,str(round(value,3)))\n",
        "plt.show()\n",
        "\n",
        "print('Precision: ' + str(precision))\n",
        "print('Recall: ' + str(recall))\n",
        "print('F1-Score: ' + str(f1))"
      ],
      "metadata": {
        "id": "Emp_YS-5hyqe",
        "outputId": "ab8e1843-cc66-4358-93b9-a9256e7d2606",
        "colab": {
          "base_uri": "https://localhost:8080/",
          "height": 975
        }
      },
      "execution_count": 126,
      "outputs": [
        {
          "output_type": "display_data",
          "data": {
            "image/png": "[encoded data removed]",
            "text/plain": [
              "<Figure size 1000x500 with 1 Axes>"
            ]
          },
          "metadata": {
            "needs_background": "light"
          }
        },
        {
          "output_type": "display_data",
          "data": {
            "image/png": "[encoded data removed]",
            "text/plain": [
              "<Figure size 1000x500 with 1 Axes>"
            ]
          },
          "metadata": {
            "needs_background": "light"
          }
        },
        {
          "output_type": "stream",
          "name": "stdout",
          "text": [
            "Precision: 0.7298267761437524\n",
            "Recall: 0.7326906222611744\n",
            "F1-Score: 0.7261335724207983\n"
          ]
        }
      ]
    },
    {
      "cell_type": "markdown",
      "source": [
        "## **Second Model Creation & Training**"
      ],
      "metadata": {
        "id": "coUpc3uOURJW"
      }
    },
    {
      "cell_type": "markdown",
      "source": [
        "## **Second Model Evaluation**"
      ],
      "metadata": {
        "id": "VEEe7yq_UVaQ"
      }
    }
  ]
}