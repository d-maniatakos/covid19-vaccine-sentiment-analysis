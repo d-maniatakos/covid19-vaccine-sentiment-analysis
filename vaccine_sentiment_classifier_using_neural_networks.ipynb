{
  "nbformat": 4,
  "nbformat_minor": 0,
  "metadata": {
    "colab": {
      "name": "Untitled37.ipynb",
      "provenance": [],
      "authorship_tag": "ABX9TyOj0MUzO6USeaIffHtdBmGm",
      "include_colab_link": true
    },
    "kernelspec": {
      "name": "python3",
      "display_name": "Python 3"
    },
    "language_info": {
      "name": "python"
    }
  },
  "cells": [
    {
      "cell_type": "markdown",
      "metadata": {
        "id": "view-in-github",
        "colab_type": "text"
      },
      "source": [
        "<a href=\"https://colab.research.google.com/github/d-maniatakos/vaccine-sentiment-classifier/blob/master/vaccine_sentiment_classifier_using_neural_networks.ipynb\" target=\"_parent\"><img src=\"https://colab.research.google.com/assets/colab-badge.svg\" alt=\"Open In Colab\"/></a>"
      ]
    },
    {
      "cell_type": "markdown",
      "metadata": {
        "id": "6MGgWWk4-Sws"
      },
      "source": [
        "## **Modules Import**"
      ]
    },
    {
      "cell_type": "code",
      "metadata": {
        "id": "4h0TYkVY3ieJ",
        "outputId": "abfcba9f-01a5-4757-c1b7-f00644e5ccfb",
        "colab": {
          "base_uri": "https://localhost:8080/"
        }
      },
      "source": [
        "import pandas as pd\n",
        "import numpy as np\n",
        "import torch\n",
        "import torchtext\n",
        "from torch import nn\n",
        "from torch.utils.data import DataLoader\n",
        "import matplotlib.pyplot as plt\n",
        "\n",
        "import nltk\n",
        "from nltk.stem import WordNetLemmatizer\n",
        "nltk.download('wordnet')\n",
        "from sklearn.feature_extraction.text import CountVectorizer, TfidfVectorizer"
      ],
      "execution_count": 60,
      "outputs": [
        {
          "output_type": "stream",
          "name": "stdout",
          "text": [
            "[nltk_data] Downloading package wordnet to /root/nltk_data...\n",
            "[nltk_data]   Package wordnet is already up-to-date!\n"
          ]
        }
      ]
    },
    {
      "cell_type": "markdown",
      "source": [
        "## **Download Glove**"
      ],
      "metadata": {
        "id": "GN3eIf4QVcN5"
      }
    },
    {
      "cell_type": "code",
      "source": [
        "#!wget http://nlp.stanford.edu/data/glove.6B.zip"
      ],
      "metadata": {
        "id": "oBEsnwOlO88s"
      },
      "execution_count": 61,
      "outputs": []
    },
    {
      "cell_type": "code",
      "source": [
        "#!unzip glove.6B.zip"
      ],
      "metadata": {
        "id": "tEMVlOG5Or2V"
      },
      "execution_count": 62,
      "outputs": []
    },
    {
      "cell_type": "code",
      "source": [
        "glove = {}\n",
        "\n",
        "with open('glove.6B.50d.txt') as f:\n",
        "    lines = f.readlines()\n",
        "for line in lines:\n",
        "  vector = []\n",
        "  for dim in line.split(' ')[1:]:\n",
        "    vector.append(float(dim))\n",
        "  glove[line.split(' ')[0]] = np.array(vector)"
      ],
      "metadata": {
        "id": "DKvZQOXfO54w"
      },
      "execution_count": 86,
      "outputs": []
    },
    {
      "cell_type": "markdown",
      "metadata": {
        "id": "3MqaN0Qe-aLq"
      },
      "source": [
        "## **Data Import**"
      ]
    },
    {
      "cell_type": "code",
      "metadata": {
        "id": "Jvvl_FgODooA",
        "outputId": "586285cd-f770-47a3-cf9b-4be1223614db",
        "colab": {
          "base_uri": "https://localhost:8080/",
          "height": 206
        }
      },
      "source": [
        "# read datasets and ignore the first (index) column\n",
        "train_data =  pd.read_csv('vaccine_train_set.csv').iloc[:, 1:]\n",
        "validation_data = pd.read_csv('vaccine_validation_set.csv').iloc[:, 1:]    # <--- replace with test set path\n",
        "\n",
        "train_data.head()"
      ],
      "execution_count": 64,
      "outputs": [
        {
          "output_type": "execute_result",
          "data": {
            "text/html": [
              "<div>\n",
              "<style scoped>\n",
              "    .dataframe tbody tr th:only-of-type {\n",
              "        vertical-align: middle;\n",
              "    }\n",
              "\n",
              "    .dataframe tbody tr th {\n",
              "        vertical-align: top;\n",
              "    }\n",
              "\n",
              "    .dataframe thead th {\n",
              "        text-align: right;\n",
              "    }\n",
              "</style>\n",
              "<table border=\"1\" class=\"dataframe\">\n",
              "  <thead>\n",
              "    <tr style=\"text-align: right;\">\n",
              "      <th></th>\n",
              "      <th>tweet</th>\n",
              "      <th>label</th>\n",
              "    </tr>\n",
              "  </thead>\n",
              "  <tbody>\n",
              "    <tr>\n",
              "      <th>0</th>\n",
              "      <td>Sip N Shop Come thru right now #Marjais #Popul...</td>\n",
              "      <td>0</td>\n",
              "    </tr>\n",
              "    <tr>\n",
              "      <th>1</th>\n",
              "      <td>I don't know about you but My family and I wil...</td>\n",
              "      <td>1</td>\n",
              "    </tr>\n",
              "    <tr>\n",
              "      <th>2</th>\n",
              "      <td>@MSignorile Immunizations should be mandatory....</td>\n",
              "      <td>2</td>\n",
              "    </tr>\n",
              "    <tr>\n",
              "      <th>3</th>\n",
              "      <td>President Obama spoke in favor of vaccination ...</td>\n",
              "      <td>0</td>\n",
              "    </tr>\n",
              "    <tr>\n",
              "      <th>4</th>\n",
              "      <td>\"@myfoxla: Arizona monitoring hundreds for mea...</td>\n",
              "      <td>0</td>\n",
              "    </tr>\n",
              "  </tbody>\n",
              "</table>\n",
              "</div>"
            ],
            "text/plain": [
              "                                               tweet  label\n",
              "0  Sip N Shop Come thru right now #Marjais #Popul...      0\n",
              "1  I don't know about you but My family and I wil...      1\n",
              "2  @MSignorile Immunizations should be mandatory....      2\n",
              "3  President Obama spoke in favor of vaccination ...      0\n",
              "4  \"@myfoxla: Arizona monitoring hundreds for mea...      0"
            ]
          },
          "metadata": {},
          "execution_count": 64
        }
      ]
    },
    {
      "cell_type": "markdown",
      "metadata": {
        "id": "aPxtP__p658s"
      },
      "source": [
        "## **Pre-processing & Vectorization**"
      ]
    },
    {
      "cell_type": "code",
      "metadata": {
        "id": "yXoWoOumv9cj"
      },
      "source": [
        "# preprocess tweets texts before vectorization\n",
        "def preprocess(text):\n",
        "  text = text.lower()\n",
        "  unwanted_chars = ['@', '#', '!', '(', ')', '*', ':', ',']\n",
        "\n",
        "  for char in unwanted_chars:\n",
        "    text = text.replace(char, '')\n",
        "  lemmatizer = WordNetLemmatizer()\n",
        "\n",
        "  lemmatized_text = ''\n",
        "  for word in text.split():\n",
        "    lemmatized_text += lemmatizer.lemmatize(word) + ' '\n",
        "  return lemmatized_text\n",
        "\n",
        "\n",
        "# vectorize a tweet using glove word embedding\n",
        "def glove_vectorize(corpus, representation = 'average'):\n",
        "  vectors = []\n",
        "  for document in corpus:\n",
        "    glove_vectors = []\n",
        "    for token in document.split():\n",
        "      try:\n",
        "        glove_vectors.append(torch.from_numpy(glove[token]))\n",
        "      except:\n",
        "        glove_vectors.append(torch.from_numpy(np.zeros((50))))\n",
        "    if representation == 'average':\n",
        "      vectors.append(torch.stack(glove_vectors, dim=0).sum(dim=0).div(len(document.split())))\n",
        "    elif representation == 'sum':\n",
        "      vectors.append(torch.stack(glove_vectors, dim=0).sum(dim=0))\n",
        "  return torch.stack(vectors, dim=0).to(torch.float32)\n",
        "\n",
        "# create a tf-idf or bow vectorizer (using the training set's tweets)\n",
        "def create_vectorizer(train_corpus, method='tf-idf', max_features=1000, ngram_range=(1, 2)):\n",
        "  if method == 'tf-idf':\n",
        "    vectorizer = TfidfVectorizer(max_features=max_features, ngram_range=ngram_range)\n",
        "  elif method == 'bow':\n",
        "    vectorizer = CountVectorizer(max_features=max_features, ngram_range=ngram_range)\n",
        "  return vectorizer.fit(train_corpus)\n",
        "\n",
        "# vectorize a dataset\n",
        "def vectorize(vectorizer, corpus):\n",
        "  return torch.from_numpy(vectorizer.transform(corpus).toarray())\n",
        "\n",
        "\n",
        "train_data['tweet'] = train_data['tweet'].apply(preprocess)\n",
        "validation_data['tweet'] = validation_data['tweet'].apply(preprocess)\n",
        "\n",
        "train_corpus = train_data['tweet']\n",
        "validation_corpus = validation_data['tweet']\n",
        "\n",
        "# tf-idf vectorization approach\n",
        "# tf_idf_vectorizer = create_vectorizer(train_data['tweet'])\n",
        "# train_vector = vectorize(tf_idf_vectorizer, train_corpus)\n",
        "# validation_vector = vectorize(tf_idf_vectorizer, validation_corpus)\n",
        "\n",
        "# glove vectorization approach\n",
        "train_vector = glove_vectorize(train_corpus)\n",
        "validation_vector = glove_vectorize(validation_corpus)\n",
        "\n",
        "x_train = train_vector\n",
        "y_train = torch.tensor(train_data['label'].values, dtype=torch.long)\n",
        "\n",
        "x_validation = validation_vector\n",
        "y_validation = torch.tensor(validation_data['label'].values, dtype=torch.long)"
      ],
      "execution_count": 130,
      "outputs": []
    },
    {
      "cell_type": "markdown",
      "source": [
        "## **Model Creation, Training & Evaluation**"
      ],
      "metadata": {
        "id": "uTs2bhunafr2"
      }
    },
    {
      "cell_type": "code",
      "metadata": {
        "id": "BdwFr0n65_YU",
        "outputId": "da34b0ee-219d-4709-a2aa-c0c12a0b0128",
        "colab": {
          "base_uri": "https://localhost:8080/"
        }
      },
      "source": [
        "class NeuralNetwork(nn.Module):\n",
        "  def __init__(self, x_size, num_of_classes, hidden_size):\n",
        "    super(NeuralNetwork, self).__init__()\n",
        "    self.l1 = nn.Linear(x_size, hidden_size)\n",
        "    self.l2 = nn.ReLU()\n",
        "    self.l3 = nn.Linear(hidden_size, num_of_classes)\n",
        "\n",
        "  def forward(self, x):\n",
        "    out = self.l1(x)\n",
        "    out = self.l2(out)\n",
        "    out = self.l3(out)\n",
        "    return out\n",
        "\n",
        "input_size = 50\n",
        "hidden_size = 50\n",
        "output_size = 3\n",
        "num_of_epochs = 100\n",
        "batch_size = 50\n",
        "learning_rate = 0.0005\n",
        "loss_function = nn.CrossEntropyLoss()\n",
        "model = NeuralNetwork(input_size, output_size, hidden_size)\n",
        "optimizer = torch.optim.Adam(model.parameters(), lr=learning_rate)\n",
        "\n",
        "\n",
        "\n",
        "train_dataset = torch.utils.data.TensorDataset(x_train, y_train)\n",
        "train_dataloader = torch.utils.data.DataLoader(train_dataset, batch_size=64, shuffle=True)\n",
        "\n",
        "\n",
        "\n",
        "for epoch in range(num_of_epochs):\n",
        "  batch_losses = []\n",
        "\n",
        "  for index, (x, y) in enumerate(train_dataloader):\n",
        "    y_pred = model(x)\n",
        "    loss = loss_function(y_pred, y)\n",
        "    batch_losses.append(loss.item())\n",
        "\n",
        "    optimizer.zero_grad()\n",
        "    loss.backward()\n",
        "    optimizer.step()\n",
        "  \n",
        "  print(sum(batch_losses)/len(train_dataloader))\n",
        "\n",
        "  \n"
      ],
      "execution_count": 138,
      "outputs": [
        {
          "output_type": "stream",
          "name": "stdout",
          "text": [
            "0.9721210684776306\n",
            "0.8980456585884095\n",
            "0.8645398151874543\n",
            "0.8470092039108277\n",
            "0.8352774384021759\n",
            "0.8276990504264832\n",
            "0.8214411511421204\n",
            "0.8160589730739594\n",
            "0.8112691435813904\n",
            "0.8071184015274048\n",
            "0.8036636371612549\n",
            "0.8002009191513062\n",
            "0.7970786125659942\n",
            "0.7938336899280548\n",
            "0.7907508478164673\n",
            "0.7873194839954376\n",
            "0.7847209961414338\n",
            "0.7819648029804229\n",
            "0.7805574004650115\n",
            "0.7778748118877411\n",
            "0.775200325012207\n",
            "0.7738631582260131\n",
            "0.7710979471206665\n",
            "0.7694821798801422\n",
            "0.7681685435771942\n",
            "0.7658142895698548\n",
            "0.7636613645553589\n",
            "0.7626716482639313\n",
            "0.760807318687439\n",
            "0.7593283529281616\n",
            "0.7579209942817688\n",
            "0.7559967212677002\n",
            "0.7552576777935028\n",
            "0.7532679607868195\n",
            "0.7520756351947785\n",
            "0.7510281281471253\n",
            "0.7494487960338593\n",
            "0.7488963658809662\n",
            "0.7477855932712555\n",
            "0.7468670768737793\n",
            "0.7455000548362732\n",
            "0.744374038696289\n",
            "0.7429556584358216\n",
            "0.7425107533931732\n",
            "0.7417153072357178\n",
            "0.7397462162971497\n",
            "0.7391671404838562\n",
            "0.7385078086853027\n",
            "0.7372233324050903\n",
            "0.7372061212062836\n",
            "0.7354315669536591\n",
            "0.7351475973129272\n",
            "0.7343865342140198\n",
            "0.7325280640125275\n",
            "0.7325996828079223\n",
            "0.7315983772277832\n",
            "0.7308488898277282\n",
            "0.7305804960727692\n",
            "0.7288714094161988\n",
            "0.727924239397049\n",
            "0.7277435505390167\n",
            "0.727002403497696\n",
            "0.7256050726175308\n",
            "0.7246702437400818\n",
            "0.7245171370506287\n",
            "0.7238430082798004\n",
            "0.7230465292930603\n",
            "0.7227588503360748\n",
            "0.7225087463855744\n",
            "0.721293066740036\n",
            "0.7209298212528229\n",
            "0.7202868964672089\n",
            "0.7198150701522827\n",
            "0.7192434668540955\n",
            "0.717772081375122\n",
            "0.7171929349899292\n",
            "0.7174868232011795\n",
            "0.7163557138442993\n",
            "0.7159434010982514\n",
            "0.7156602776050568\n",
            "0.7149820027351379\n",
            "0.7154845925569534\n",
            "0.7136818161010742\n",
            "0.7137123166322709\n",
            "0.711893707871437\n",
            "0.7120041236877441\n",
            "0.7123699387311936\n",
            "0.7105990724563599\n",
            "0.7103665186166763\n",
            "0.7105963371992111\n",
            "0.7086362323760986\n",
            "0.7092467260360718\n",
            "0.7090974153280258\n",
            "0.7079702911376953\n",
            "0.7074400198459625\n",
            "0.7070996105670929\n",
            "0.7066466361284256\n",
            "0.7067334266901016\n",
            "0.7058235173225402\n",
            "0.7054330834150314\n"
          ]
        }
      ]
    }
  ]
}