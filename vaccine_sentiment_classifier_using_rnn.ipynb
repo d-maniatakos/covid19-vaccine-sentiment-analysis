{
  "nbformat": 4,
  "nbformat_minor": 0,
  "metadata": {
    "colab": {
      "name": "vaccine_sentiment_classifier_using_rnn.ipynb",
      "provenance": [],
      "collapsed_sections": [],
      "authorship_tag": "ABX9TyMHEuTdl8mtnnbBA2I0wajm",
      "include_colab_link": true
    },
    "kernelspec": {
      "name": "python3",
      "display_name": "Python 3"
    },
    "language_info": {
      "name": "python"
    }
  },
  "cells": [
    {
      "cell_type": "markdown",
      "metadata": {
        "id": "view-in-github",
        "colab_type": "text"
      },
      "source": [
        "<a href=\"https://colab.research.google.com/github/d-maniatakos/vaccine-sentiment-classifier/blob/master/vaccine_sentiment_classifier_using_rnn.ipynb\" target=\"_parent\"><img src=\"https://colab.research.google.com/assets/colab-badge.svg\" alt=\"Open In Colab\"/></a>"
      ]
    },
    {
      "cell_type": "markdown",
      "source": [
        "# **Vaccine Sentiment Classifier using Recurrent Neural Networks (LSTM/GRU)**\n"
      ],
      "metadata": {
        "id": "lkCsgPpOx-np"
      }
    },
    {
      "cell_type": "markdown",
      "source": [
        "## **Modules Import**"
      ],
      "metadata": {
        "id": "hmYnuREcyDSz"
      }
    },
    {
      "cell_type": "code",
      "execution_count": 1,
      "metadata": {
        "colab": {
          "base_uri": "https://localhost:8080/"
        },
        "id": "3x755sHPxV_e",
        "outputId": "73de36d7-9e6e-45bc-c20c-19156786002f"
      },
      "outputs": [
        {
          "output_type": "stream",
          "name": "stdout",
          "text": [
            "[nltk_data] Downloading package wordnet to /root/nltk_data...\n",
            "[nltk_data]   Package wordnet is already up-to-date!\n"
          ]
        }
      ],
      "source": [
        "import pandas as pd\n",
        "import numpy as np\n",
        "\n",
        "import torch\n",
        "from torch import nn\n",
        "from torch.utils.data import DataLoader\n",
        "\n",
        "import nltk\n",
        "from nltk.stem import WordNetLemmatizer\n",
        "nltk.download('wordnet')\n",
        "\n",
        "from sklearn.feature_extraction.text import CountVectorizer, TfidfVectorizer\n",
        "from sklearn.metrics import precision_score, recall_score, f1_score, log_loss, confusion_matrix, ConfusionMatrixDisplay, roc_curve, RocCurveDisplay, roc_auc_score\n",
        "from sklearn.preprocessing import label_binarize\n",
        "\n",
        "import matplotlib.pyplot as plt\n",
        "import seaborn as sns"
      ]
    },
    {
      "cell_type": "markdown",
      "source": [
        "## **Glove Download & Dictionary Creation**\n"
      ],
      "metadata": {
        "id": "CPOqWentyPp7"
      }
    },
    {
      "cell_type": "code",
      "source": [
        "# don't run this cell if file \"glove.6B.100d.txt\" already exists\n",
        "\n",
        "!wget http://nlp.stanford.edu/data/glove.6B.zip\n",
        "!unzip glove.6B.zip"
      ],
      "metadata": {
        "colab": {
          "base_uri": "https://localhost:8080/"
        },
        "id": "qWjQiSekyMA6",
        "outputId": "f78ff63d-bf01-4518-c6e5-54757b07d6ae"
      },
      "execution_count": 2,
      "outputs": [
        {
          "output_type": "stream",
          "name": "stdout",
          "text": [
            "--2022-01-12 08:28:41--  http://nlp.stanford.edu/data/glove.6B.zip\n",
            "Resolving nlp.stanford.edu (nlp.stanford.edu)... 171.64.67.140\n",
            "Connecting to nlp.stanford.edu (nlp.stanford.edu)|171.64.67.140|:80... connected.\n",
            "HTTP request sent, awaiting response... 302 Found\n",
            "Location: https://nlp.stanford.edu/data/glove.6B.zip [following]\n",
            "--2022-01-12 08:28:41--  https://nlp.stanford.edu/data/glove.6B.zip\n",
            "Connecting to nlp.stanford.edu (nlp.stanford.edu)|171.64.67.140|:443... connected.\n",
            "HTTP request sent, awaiting response... 301 Moved Permanently\n",
            "Location: http://downloads.cs.stanford.edu/nlp/data/glove.6B.zip [following]\n",
            "--2022-01-12 08:28:41--  http://downloads.cs.stanford.edu/nlp/data/glove.6B.zip\n",
            "Resolving downloads.cs.stanford.edu (downloads.cs.stanford.edu)... 171.64.64.22\n",
            "Connecting to downloads.cs.stanford.edu (downloads.cs.stanford.edu)|171.64.64.22|:80... connected.\n",
            "HTTP request sent, awaiting response... 200 OK\n",
            "Length: 862182613 (822M) [application/zip]\n",
            "Saving to: ‘glove.6B.zip.1’\n",
            "\n",
            "glove.6B.zip.1        3%[                    ]  25.36M  63.4MB/s               ^C\n",
            "Archive:  glove.6B.zip\n",
            "replace glove.6B.50d.txt? [y]es, [n]o, [A]ll, [N]one, [r]ename: "
          ]
        }
      ]
    },
    {
      "cell_type": "code",
      "source": [
        "glove = {}\n",
        "\n",
        "# read file line by line while creating glove dictionary\n",
        "with open('glove.6B.100d.txt') as f:\n",
        "    lines = f.readlines()\n",
        "for line in lines:\n",
        "  vector = []\n",
        "  for dim in line.split(' ')[1:]:\n",
        "    vector.append(float(dim))\n",
        "  glove[line.split(' ')[0]] = np.array(vector)"
      ],
      "metadata": {
        "id": "ILB2nor9ymeL"
      },
      "execution_count": 3,
      "outputs": []
    },
    {
      "cell_type": "markdown",
      "source": [
        "## **Data Import**\n"
      ],
      "metadata": {
        "id": "2n7DDKoQyRr_"
      }
    },
    {
      "cell_type": "code",
      "source": [
        "# read datasets and ignore the first (index) column\n",
        "train_data =  pd.read_csv('vaccine_train_set.csv').iloc[:, 1:]\n",
        "validation_data = pd.read_csv('vaccine_validation_set.csv').iloc[:, 1:]    # <--- replace with test set path\n",
        "\n",
        "train_data.head()"
      ],
      "metadata": {
        "colab": {
          "base_uri": "https://localhost:8080/",
          "height": 206
        },
        "id": "tJjb_EvuyWhP",
        "outputId": "9d122e97-6d4d-4a93-a7ae-ecca6b74773a"
      },
      "execution_count": 4,
      "outputs": [
        {
          "output_type": "execute_result",
          "data": {
            "text/html": [
              "\n",
              "  <div id=\"df-44642fac-5420-47bb-ae45-6019303a1ef8\">\n",
              "    <div class=\"colab-df-container\">\n",
              "      <div>\n",
              "<style scoped>\n",
              "    .dataframe tbody tr th:only-of-type {\n",
              "        vertical-align: middle;\n",
              "    }\n",
              "\n",
              "    .dataframe tbody tr th {\n",
              "        vertical-align: top;\n",
              "    }\n",
              "\n",
              "    .dataframe thead th {\n",
              "        text-align: right;\n",
              "    }\n",
              "</style>\n",
              "<table border=\"1\" class=\"dataframe\">\n",
              "  <thead>\n",
              "    <tr style=\"text-align: right;\">\n",
              "      <th></th>\n",
              "      <th>tweet</th>\n",
              "      <th>label</th>\n",
              "    </tr>\n",
              "  </thead>\n",
              "  <tbody>\n",
              "    <tr>\n",
              "      <th>0</th>\n",
              "      <td>Sip N Shop Come thru right now #Marjais #Popul...</td>\n",
              "      <td>0</td>\n",
              "    </tr>\n",
              "    <tr>\n",
              "      <th>1</th>\n",
              "      <td>I don't know about you but My family and I wil...</td>\n",
              "      <td>1</td>\n",
              "    </tr>\n",
              "    <tr>\n",
              "      <th>2</th>\n",
              "      <td>@MSignorile Immunizations should be mandatory....</td>\n",
              "      <td>2</td>\n",
              "    </tr>\n",
              "    <tr>\n",
              "      <th>3</th>\n",
              "      <td>President Obama spoke in favor of vaccination ...</td>\n",
              "      <td>0</td>\n",
              "    </tr>\n",
              "    <tr>\n",
              "      <th>4</th>\n",
              "      <td>\"@myfoxla: Arizona monitoring hundreds for mea...</td>\n",
              "      <td>0</td>\n",
              "    </tr>\n",
              "  </tbody>\n",
              "</table>\n",
              "</div>\n",
              "      <button class=\"colab-df-convert\" onclick=\"convertToInteractive('df-44642fac-5420-47bb-ae45-6019303a1ef8')\"\n",
              "              title=\"Convert this dataframe to an interactive table.\"\n",
              "              style=\"display:none;\">\n",
              "        \n",
              "  <svg xmlns=\"http://www.w3.org/2000/svg\" height=\"24px\"viewBox=\"0 0 24 24\"\n",
              "       width=\"24px\">\n",
              "    <path d=\"M0 0h24v24H0V0z\" fill=\"none\"/>\n",
              "    <path d=\"M18.56 5.44l.94 2.06.94-2.06 2.06-.94-2.06-.94-.94-2.06-.94 2.06-2.06.94zm-11 1L8.5 8.5l.94-2.06 2.06-.94-2.06-.94L8.5 2.5l-.94 2.06-2.06.94zm10 10l.94 2.06.94-2.06 2.06-.94-2.06-.94-.94-2.06-.94 2.06-2.06.94z\"/><path d=\"M17.41 7.96l-1.37-1.37c-.4-.4-.92-.59-1.43-.59-.52 0-1.04.2-1.43.59L10.3 9.45l-7.72 7.72c-.78.78-.78 2.05 0 2.83L4 21.41c.39.39.9.59 1.41.59.51 0 1.02-.2 1.41-.59l7.78-7.78 2.81-2.81c.8-.78.8-2.07 0-2.86zM5.41 20L4 18.59l7.72-7.72 1.47 1.35L5.41 20z\"/>\n",
              "  </svg>\n",
              "      </button>\n",
              "      \n",
              "  <style>\n",
              "    .colab-df-container {\n",
              "      display:flex;\n",
              "      flex-wrap:wrap;\n",
              "      gap: 12px;\n",
              "    }\n",
              "\n",
              "    .colab-df-convert {\n",
              "      background-color: #E8F0FE;\n",
              "      border: none;\n",
              "      border-radius: 50%;\n",
              "      cursor: pointer;\n",
              "      display: none;\n",
              "      fill: #1967D2;\n",
              "      height: 32px;\n",
              "      padding: 0 0 0 0;\n",
              "      width: 32px;\n",
              "    }\n",
              "\n",
              "    .colab-df-convert:hover {\n",
              "      background-color: #E2EBFA;\n",
              "      box-shadow: 0px 1px 2px rgba(60, 64, 67, 0.3), 0px 1px 3px 1px rgba(60, 64, 67, 0.15);\n",
              "      fill: #174EA6;\n",
              "    }\n",
              "\n",
              "    [theme=dark] .colab-df-convert {\n",
              "      background-color: #3B4455;\n",
              "      fill: #D2E3FC;\n",
              "    }\n",
              "\n",
              "    [theme=dark] .colab-df-convert:hover {\n",
              "      background-color: #434B5C;\n",
              "      box-shadow: 0px 1px 3px 1px rgba(0, 0, 0, 0.15);\n",
              "      filter: drop-shadow(0px 1px 2px rgba(0, 0, 0, 0.3));\n",
              "      fill: #FFFFFF;\n",
              "    }\n",
              "  </style>\n",
              "\n",
              "      <script>\n",
              "        const buttonEl =\n",
              "          document.querySelector('#df-44642fac-5420-47bb-ae45-6019303a1ef8 button.colab-df-convert');\n",
              "        buttonEl.style.display =\n",
              "          google.colab.kernel.accessAllowed ? 'block' : 'none';\n",
              "\n",
              "        async function convertToInteractive(key) {\n",
              "          const element = document.querySelector('#df-44642fac-5420-47bb-ae45-6019303a1ef8');\n",
              "          const dataTable =\n",
              "            await google.colab.kernel.invokeFunction('convertToInteractive',\n",
              "                                                     [key], {});\n",
              "          if (!dataTable) return;\n",
              "\n",
              "          const docLinkHtml = 'Like what you see? Visit the ' +\n",
              "            '<a target=\"_blank\" href=https://colab.research.google.com/notebooks/data_table.ipynb>data table notebook</a>'\n",
              "            + ' to learn more about interactive tables.';\n",
              "          element.innerHTML = '';\n",
              "          dataTable['output_type'] = 'display_data';\n",
              "          await google.colab.output.renderOutput(dataTable, element);\n",
              "          const docLink = document.createElement('div');\n",
              "          docLink.innerHTML = docLinkHtml;\n",
              "          element.appendChild(docLink);\n",
              "        }\n",
              "      </script>\n",
              "    </div>\n",
              "  </div>\n",
              "  "
            ],
            "text/plain": [
              "                                               tweet  label\n",
              "0  Sip N Shop Come thru right now #Marjais #Popul...      0\n",
              "1  I don't know about you but My family and I wil...      1\n",
              "2  @MSignorile Immunizations should be mandatory....      2\n",
              "3  President Obama spoke in favor of vaccination ...      0\n",
              "4  \"@myfoxla: Arizona monitoring hundreds for mea...      0"
            ]
          },
          "metadata": {},
          "execution_count": 4
        }
      ]
    },
    {
      "cell_type": "markdown",
      "source": [
        "## **Pre-processing & Vectorization**\n"
      ],
      "metadata": {
        "id": "PNhBYyoKyXDj"
      }
    },
    {
      "cell_type": "code",
      "source": [
        "# preprocess tweets texts before vectorization\n",
        "def preprocess(text):\n",
        "  text = text.lower()\n",
        "  unwanted_chars = ['@', '#', '!', '(', ')', '*', ':', ',']\n",
        "\n",
        "  for char in unwanted_chars:\n",
        "    text = text.replace(char, '')\n",
        "  lemmatizer = WordNetLemmatizer()\n",
        "\n",
        "  lemmatized_text = ''\n",
        "  for word in text.split():\n",
        "    lemmatized_text += lemmatizer.lemmatize(word) + ' '\n",
        "  return lemmatized_text\n",
        "\n",
        "\n",
        "def padding(original_list, element, length):\n",
        "  if len(original_list) > length:\n",
        "    return original_list[:length]\n",
        "  else:\n",
        "    new_list = original_list.copy()\n",
        "    for i in range(len(original_list), length):\n",
        "      new_list.append(element)\n",
        "    return new_list\n",
        "\n",
        "\n",
        "# vectorize a tweet using glove word embedding\n",
        "def glove_sequence(corpus):\n",
        "  sequences = []\n",
        "\n",
        "  for document in corpus:\n",
        "    sequence = []\n",
        "\n",
        "    for token in document.split():\n",
        "      try:\n",
        "        sequence.append(list(glove[token]))\n",
        "      except:\n",
        "        pass\n",
        "\n",
        "    sequence = padding(sequence, list(np.zeros(100)), 50)\n",
        "    sequences.append(sequence)\n",
        "    \n",
        "  return sequences\n",
        "\n",
        "\n",
        "\n",
        "train_data['tweet'] = train_data['tweet'].apply(preprocess)\n",
        "validation_data['tweet'] = validation_data['tweet'].apply(preprocess)\n",
        "\n",
        "train_corpus = train_data['tweet']\n",
        "validation_corpus = validation_data['tweet']\n",
        "\n",
        "x_train = glove_sequence(['review review review', 'good good good', 'review review review', 'good good good'])"
      ],
      "metadata": {
        "id": "Lzj34Ja5zPrn"
      },
      "execution_count": 37,
      "outputs": []
    },
    {
      "cell_type": "code",
      "source": [
        "class LSTM(nn.Module):\n",
        "  def __init__(self, x_size, hidden_size, num_of_classes, num_of_layers):\n",
        "    super(LSTM, self).__init__()\n",
        "    self.hidden_size = hidden_size\n",
        "\n",
        "    self.lstm = nn.LSTM(x_size, hidden_size, num_of_layers, bidirectional=True)\n",
        "    self.fc = nn.Linear(hidden_size*2, num_of_classes)\n",
        "\n",
        "  def forward(self, x):\n",
        "    out, (hidden, cell) = self.lstm(x)\n",
        "    cat = torch.cat((hidden[-2, :, :], hidden[-1, :, :]), dim=1)\n",
        "    out = self.fc(out)\n",
        "    return out[:, -1, :]"
      ],
      "metadata": {
        "id": "NTk2DT4I0tdM"
      },
      "execution_count": 56,
      "outputs": []
    },
    {
      "cell_type": "code",
      "source": [
        "x_train = torch.Tensor(glove_sequence(train_corpus[:1000]))\n",
        "y_train = torch.tensor(train_data['label'][:1000].values, dtype=torch.long)\n",
        "\n",
        "train_dataset = torch.utils.data.TensorDataset(x_train, y_train)\n",
        "train_dataloader = torch.utils.data.DataLoader(train_dataset, batch_size=64, shuffle=True)\n",
        "\n",
        "x_size = 100\n",
        "hidden_size = 200\n",
        "num_of_classes = 3\n",
        "num_of_layers = 2\n",
        "learning_rate = 0.05\n",
        "num_of_epochs = 10\n",
        "loss_function = nn.CrossEntropyLoss()\n",
        "\n",
        "model = LSTM(x_size, hidden_size, num_of_classes, num_of_layers)\n",
        "optimizer = torch.optim.Adam(model.parameters(), lr=learning_rate)\n",
        "\n",
        "\n",
        "\n",
        "for epoch in range(num_of_epochs):\n",
        "  batch_losses = []\n",
        "  for index, (x, y) in enumerate(train_dataloader):\n",
        "    y_pred = model(x)\n",
        "    loss = loss_function(y_pred, y)\n",
        "    batch_losses.append(loss.item())\n",
        "\n",
        "    optimizer.zero_grad()\n",
        "    loss.backward()\n",
        "    optimizer.step()\n",
        "  print('Epoch: ' + str(epoch+1) + '/' + str(num_of_epochs) + ' Training Loss: ' + str(round(sum(batch_losses)/len(train_dataloader), 4)))\n",
        "\n"
      ],
      "metadata": {
        "colab": {
          "base_uri": "https://localhost:8080/"
        },
        "id": "Ob1kBlF5BE1L",
        "outputId": "aedeb332-d157-42c9-d930-266cf98574ca"
      },
      "execution_count": 57,
      "outputs": [
        {
          "output_type": "stream",
          "name": "stdout",
          "text": [
            "Epoch: 1/10 Training Loss: 1.8493\n",
            "Epoch: 2/10 Training Loss: 1.2682\n",
            "Epoch: 3/10 Training Loss: 1.0757\n",
            "Epoch: 4/10 Training Loss: 1.0639\n",
            "Epoch: 5/10 Training Loss: 1.0909\n",
            "Epoch: 6/10 Training Loss: 1.1848\n",
            "Epoch: 7/10 Training Loss: 1.1087\n",
            "Epoch: 8/10 Training Loss: 1.068\n",
            "Epoch: 9/10 Training Loss: 1.0436\n",
            "Epoch: 10/10 Training Loss: 1.1234\n"
          ]
        }
      ]
    },
    {
      "cell_type": "code",
      "source": [
        "model(x_train)"
      ],
      "metadata": {
        "colab": {
          "base_uri": "https://localhost:8080/"
        },
        "id": "LlK09NifTlxI",
        "outputId": "1c66026b-22f4-4256-f4ef-46d736208028"
      },
      "execution_count": 58,
      "outputs": [
        {
          "output_type": "execute_result",
          "data": {
            "text/plain": [
              "tensor([[1.4723, 0.0647, 1.0337],\n",
              "        [1.7807, 0.2138, 1.1792],\n",
              "        [1.8389, 0.2287, 1.2056],\n",
              "        ...,\n",
              "        [1.8471, 0.2319, 1.2092],\n",
              "        [1.8419, 0.2372, 1.2051],\n",
              "        [1.8597, 0.2710, 1.1507]], grad_fn=<SliceBackward0>)"
            ]
          },
          "metadata": {},
          "execution_count": 58
        }
      ]
    },
    {
      "cell_type": "code",
      "source": [
        "y_train[:10]"
      ],
      "metadata": {
        "colab": {
          "base_uri": "https://localhost:8080/"
        },
        "id": "pKPAL7JeTpR9",
        "outputId": "7b448040-d1ec-4628-c943-e80977cee1ec"
      },
      "execution_count": 59,
      "outputs": [
        {
          "output_type": "execute_result",
          "data": {
            "text/plain": [
              "tensor([0, 1, 2, 0, 0, 2, 0, 0, 2, 0])"
            ]
          },
          "metadata": {},
          "execution_count": 59
        }
      ]
    }
  ]
}