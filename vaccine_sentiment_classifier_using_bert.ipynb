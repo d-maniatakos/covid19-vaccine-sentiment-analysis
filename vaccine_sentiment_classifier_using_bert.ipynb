{
  "nbformat": 4,
  "nbformat_minor": 0,
  "metadata": {
    "colab": {
      "name": "assignment4.ipynb",
      "provenance": [],
      "collapsed_sections": [],
      "authorship_tag": "ABX9TyMUNah4+hZMnNlfy23s5aMc",
      "include_colab_link": true
    },
    "kernelspec": {
      "name": "python3",
      "display_name": "Python 3"
    },
    "language_info": {
      "name": "python"
    },
    "accelerator": "GPU"
  },
  "cells": [
    {
      "cell_type": "markdown",
      "metadata": {
        "id": "view-in-github",
        "colab_type": "text"
      },
      "source": [
        "<a href=\"https://colab.research.google.com/github/d-maniatakos/vaccine-sentiment-classifier/blob/master/vaccine_sentiment_classifier_using_bert.ipynb\" target=\"_parent\"><img src=\"https://colab.research.google.com/assets/colab-badge.svg\" alt=\"Open In Colab\"/></a>"
      ]
    },
    {
      "cell_type": "markdown",
      "source": [
        "# **Vaccine Sentiment Classifier using fine-tuned BERT Model**"
      ],
      "metadata": {
        "id": "4C3BcYH-qB_L"
      }
    },
    {
      "cell_type": "markdown",
      "source": [
        "## **Modules Import**"
      ],
      "metadata": {
        "id": "4fCFKVoFoEfe"
      }
    },
    {
      "cell_type": "code",
      "execution_count": 1,
      "metadata": {
        "id": "IAlucb3Tph6n",
        "colab": {
          "base_uri": "https://localhost:8080/"
        },
        "outputId": "13eafc98-fc29-4731-e073-16feb942ef82"
      },
      "outputs": [
        {
          "output_type": "stream",
          "name": "stdout",
          "text": [
            "Requirement already satisfied: transformers in /usr/local/lib/python3.7/dist-packages (4.16.2)\n",
            "Requirement already satisfied: filelock in /usr/local/lib/python3.7/dist-packages (from transformers) (3.6.0)\n",
            "Requirement already satisfied: huggingface-hub<1.0,>=0.1.0 in /usr/local/lib/python3.7/dist-packages (from transformers) (0.4.0)\n",
            "Requirement already satisfied: importlib-metadata in /usr/local/lib/python3.7/dist-packages (from transformers) (4.11.1)\n",
            "Requirement already satisfied: packaging>=20.0 in /usr/local/lib/python3.7/dist-packages (from transformers) (21.3)\n",
            "Requirement already satisfied: tokenizers!=0.11.3,>=0.10.1 in /usr/local/lib/python3.7/dist-packages (from transformers) (0.11.5)\n",
            "Requirement already satisfied: numpy>=1.17 in /usr/local/lib/python3.7/dist-packages (from transformers) (1.21.5)\n",
            "Requirement already satisfied: requests in /usr/local/lib/python3.7/dist-packages (from transformers) (2.23.0)\n",
            "Requirement already satisfied: regex!=2019.12.17 in /usr/local/lib/python3.7/dist-packages (from transformers) (2019.12.20)\n",
            "Requirement already satisfied: sacremoses in /usr/local/lib/python3.7/dist-packages (from transformers) (0.0.47)\n",
            "Requirement already satisfied: pyyaml>=5.1 in /usr/local/lib/python3.7/dist-packages (from transformers) (6.0)\n",
            "Requirement already satisfied: tqdm>=4.27 in /usr/local/lib/python3.7/dist-packages (from transformers) (4.62.3)\n",
            "Requirement already satisfied: typing-extensions>=3.7.4.3 in /usr/local/lib/python3.7/dist-packages (from huggingface-hub<1.0,>=0.1.0->transformers) (3.10.0.2)\n",
            "Requirement already satisfied: pyparsing!=3.0.5,>=2.0.2 in /usr/local/lib/python3.7/dist-packages (from packaging>=20.0->transformers) (3.0.7)\n",
            "Requirement already satisfied: zipp>=0.5 in /usr/local/lib/python3.7/dist-packages (from importlib-metadata->transformers) (3.7.0)\n",
            "Requirement already satisfied: idna<3,>=2.5 in /usr/local/lib/python3.7/dist-packages (from requests->transformers) (2.10)\n",
            "Requirement already satisfied: chardet<4,>=3.0.2 in /usr/local/lib/python3.7/dist-packages (from requests->transformers) (3.0.4)\n",
            "Requirement already satisfied: urllib3!=1.25.0,!=1.25.1,<1.26,>=1.21.1 in /usr/local/lib/python3.7/dist-packages (from requests->transformers) (1.24.3)\n",
            "Requirement already satisfied: certifi>=2017.4.17 in /usr/local/lib/python3.7/dist-packages (from requests->transformers) (2021.10.8)\n",
            "Requirement already satisfied: six in /usr/local/lib/python3.7/dist-packages (from sacremoses->transformers) (1.15.0)\n",
            "Requirement already satisfied: click in /usr/local/lib/python3.7/dist-packages (from sacremoses->transformers) (7.1.2)\n",
            "Requirement already satisfied: joblib in /usr/local/lib/python3.7/dist-packages (from sacremoses->transformers) (1.1.0)\n"
          ]
        }
      ],
      "source": [
        "!pip install transformers\n",
        "import torch\n",
        "from torch import nn\n",
        "from torch.utils.data import DataLoader\n",
        "\n",
        "import pandas as pd\n",
        "from transformers import BertTokenizer, BertForSequenceClassification\n",
        "\n",
        "from sklearn.metrics import precision_score, recall_score, f1_score, log_loss, confusion_matrix, ConfusionMatrixDisplay, roc_curve, RocCurveDisplay, roc_auc_score\n",
        "\n",
        "import matplotlib.pyplot as plt\n",
        "import seaborn as sns"
      ]
    },
    {
      "cell_type": "markdown",
      "source": [
        "## **Data Import**"
      ],
      "metadata": {
        "id": "dBmP1lK2ohtR"
      }
    },
    {
      "cell_type": "code",
      "source": [
        "# read datasets and ignore the first (index) column\n",
        "train_data =  pd.read_csv('vaccine_train_set.csv').iloc[:, 1:]\n",
        "validation_data = pd.read_csv('vaccine_validation_set.csv').iloc[:, 1:]    # <--- replace with test set path\n",
        "\n",
        "train_data.head()"
      ],
      "metadata": {
        "colab": {
          "base_uri": "https://localhost:8080/",
          "height": 206
        },
        "id": "aaAoxFWlysWf",
        "outputId": "679fb8f5-f376-464b-91c5-a0cb01c932ba"
      },
      "execution_count": 2,
      "outputs": [
        {
          "output_type": "execute_result",
          "data": {
            "text/html": [
              "\n",
              "  <div id=\"df-5cab64fd-ca02-48a2-ba17-50981a8aa03c\">\n",
              "    <div class=\"colab-df-container\">\n",
              "      <div>\n",
              "<style scoped>\n",
              "    .dataframe tbody tr th:only-of-type {\n",
              "        vertical-align: middle;\n",
              "    }\n",
              "\n",
              "    .dataframe tbody tr th {\n",
              "        vertical-align: top;\n",
              "    }\n",
              "\n",
              "    .dataframe thead th {\n",
              "        text-align: right;\n",
              "    }\n",
              "</style>\n",
              "<table border=\"1\" class=\"dataframe\">\n",
              "  <thead>\n",
              "    <tr style=\"text-align: right;\">\n",
              "      <th></th>\n",
              "      <th>tweet</th>\n",
              "      <th>label</th>\n",
              "    </tr>\n",
              "  </thead>\n",
              "  <tbody>\n",
              "    <tr>\n",
              "      <th>0</th>\n",
              "      <td>Sip N Shop Come thru right now #Marjais #Popul...</td>\n",
              "      <td>0</td>\n",
              "    </tr>\n",
              "    <tr>\n",
              "      <th>1</th>\n",
              "      <td>I don't know about you but My family and I wil...</td>\n",
              "      <td>1</td>\n",
              "    </tr>\n",
              "    <tr>\n",
              "      <th>2</th>\n",
              "      <td>@MSignorile Immunizations should be mandatory....</td>\n",
              "      <td>2</td>\n",
              "    </tr>\n",
              "    <tr>\n",
              "      <th>3</th>\n",
              "      <td>President Obama spoke in favor of vaccination ...</td>\n",
              "      <td>0</td>\n",
              "    </tr>\n",
              "    <tr>\n",
              "      <th>4</th>\n",
              "      <td>\"@myfoxla: Arizona monitoring hundreds for mea...</td>\n",
              "      <td>0</td>\n",
              "    </tr>\n",
              "  </tbody>\n",
              "</table>\n",
              "</div>\n",
              "      <button class=\"colab-df-convert\" onclick=\"convertToInteractive('df-5cab64fd-ca02-48a2-ba17-50981a8aa03c')\"\n",
              "              title=\"Convert this dataframe to an interactive table.\"\n",
              "              style=\"display:none;\">\n",
              "        \n",
              "  <svg xmlns=\"http://www.w3.org/2000/svg\" height=\"24px\"viewBox=\"0 0 24 24\"\n",
              "       width=\"24px\">\n",
              "    <path d=\"M0 0h24v24H0V0z\" fill=\"none\"/>\n",
              "    <path d=\"M18.56 5.44l.94 2.06.94-2.06 2.06-.94-2.06-.94-.94-2.06-.94 2.06-2.06.94zm-11 1L8.5 8.5l.94-2.06 2.06-.94-2.06-.94L8.5 2.5l-.94 2.06-2.06.94zm10 10l.94 2.06.94-2.06 2.06-.94-2.06-.94-.94-2.06-.94 2.06-2.06.94z\"/><path d=\"M17.41 7.96l-1.37-1.37c-.4-.4-.92-.59-1.43-.59-.52 0-1.04.2-1.43.59L10.3 9.45l-7.72 7.72c-.78.78-.78 2.05 0 2.83L4 21.41c.39.39.9.59 1.41.59.51 0 1.02-.2 1.41-.59l7.78-7.78 2.81-2.81c.8-.78.8-2.07 0-2.86zM5.41 20L4 18.59l7.72-7.72 1.47 1.35L5.41 20z\"/>\n",
              "  </svg>\n",
              "      </button>\n",
              "      \n",
              "  <style>\n",
              "    .colab-df-container {\n",
              "      display:flex;\n",
              "      flex-wrap:wrap;\n",
              "      gap: 12px;\n",
              "    }\n",
              "\n",
              "    .colab-df-convert {\n",
              "      background-color: #E8F0FE;\n",
              "      border: none;\n",
              "      border-radius: 50%;\n",
              "      cursor: pointer;\n",
              "      display: none;\n",
              "      fill: #1967D2;\n",
              "      height: 32px;\n",
              "      padding: 0 0 0 0;\n",
              "      width: 32px;\n",
              "    }\n",
              "\n",
              "    .colab-df-convert:hover {\n",
              "      background-color: #E2EBFA;\n",
              "      box-shadow: 0px 1px 2px rgba(60, 64, 67, 0.3), 0px 1px 3px 1px rgba(60, 64, 67, 0.15);\n",
              "      fill: #174EA6;\n",
              "    }\n",
              "\n",
              "    [theme=dark] .colab-df-convert {\n",
              "      background-color: #3B4455;\n",
              "      fill: #D2E3FC;\n",
              "    }\n",
              "\n",
              "    [theme=dark] .colab-df-convert:hover {\n",
              "      background-color: #434B5C;\n",
              "      box-shadow: 0px 1px 3px 1px rgba(0, 0, 0, 0.15);\n",
              "      filter: drop-shadow(0px 1px 2px rgba(0, 0, 0, 0.3));\n",
              "      fill: #FFFFFF;\n",
              "    }\n",
              "  </style>\n",
              "\n",
              "      <script>\n",
              "        const buttonEl =\n",
              "          document.querySelector('#df-5cab64fd-ca02-48a2-ba17-50981a8aa03c button.colab-df-convert');\n",
              "        buttonEl.style.display =\n",
              "          google.colab.kernel.accessAllowed ? 'block' : 'none';\n",
              "\n",
              "        async function convertToInteractive(key) {\n",
              "          const element = document.querySelector('#df-5cab64fd-ca02-48a2-ba17-50981a8aa03c');\n",
              "          const dataTable =\n",
              "            await google.colab.kernel.invokeFunction('convertToInteractive',\n",
              "                                                     [key], {});\n",
              "          if (!dataTable) return;\n",
              "\n",
              "          const docLinkHtml = 'Like what you see? Visit the ' +\n",
              "            '<a target=\"_blank\" href=https://colab.research.google.com/notebooks/data_table.ipynb>data table notebook</a>'\n",
              "            + ' to learn more about interactive tables.';\n",
              "          element.innerHTML = '';\n",
              "          dataTable['output_type'] = 'display_data';\n",
              "          await google.colab.output.renderOutput(dataTable, element);\n",
              "          const docLink = document.createElement('div');\n",
              "          docLink.innerHTML = docLinkHtml;\n",
              "          element.appendChild(docLink);\n",
              "        }\n",
              "      </script>\n",
              "    </div>\n",
              "  </div>\n",
              "  "
            ],
            "text/plain": [
              "                                               tweet  label\n",
              "0  Sip N Shop Come thru right now #Marjais #Popul...      0\n",
              "1  I don't know about you but My family and I wil...      1\n",
              "2  @MSignorile Immunizations should be mandatory....      2\n",
              "3  President Obama spoke in favor of vaccination ...      0\n",
              "4  \"@myfoxla: Arizona monitoring hundreds for mea...      0"
            ]
          },
          "metadata": {},
          "execution_count": 2
        }
      ]
    },
    {
      "cell_type": "markdown",
      "source": [
        "## **Prepare Data for BERT**"
      ],
      "metadata": {
        "id": "8TFrnPUqosDD"
      }
    },
    {
      "cell_type": "code",
      "source": [
        "tokenizer = BertTokenizer.from_pretrained('bert-base-uncased')\n",
        "\n",
        "y_train = torch.tensor(train_data['label'].tolist())\n",
        "y_validation = torch.tensor(validation_data['label'].tolist())\n",
        "\n",
        "encoded_train = tokenizer.batch_encode_plus(train_data['tweet'].tolist(), add_special_tokens = True, truncation=True, max_length=64, padding='longest', return_attention_mask=True, return_tensors='pt')\n",
        "encoded_validation = tokenizer.batch_encode_plus(validation_data['tweet'].tolist(), add_special_tokens = True, truncation=True, max_length=64, padding='longest', return_attention_mask=True, return_tensors='pt')\n",
        "\n",
        "ids_train = encoded_train['input_ids']\n",
        "ids_validation = encoded_validation['input_ids']\n",
        "\n",
        "masks_train = encoded_train['attention_mask']\n",
        "masks_validation = encoded_validation['attention_mask']\n",
        "\n",
        "train_dataset = torch.utils.data.TensorDataset(ids_train, masks_train, y_train)\n",
        "validation_dataset = torch.utils.data.TensorDataset(ids_validation, masks_validation, y_validation)\n",
        "\n",
        "train_dataloader = torch.utils.data.DataLoader(train_dataset, batch_size=8, shuffle=True)\n",
        "validation_dataloader = torch.utils.data.DataLoader(validation_dataset, batch_size=8, shuffle=True)"
      ],
      "metadata": {
        "id": "aXRgqhRKzElC"
      },
      "execution_count": 3,
      "outputs": []
    },
    {
      "cell_type": "markdown",
      "source": [
        "## **Model Creation**"
      ],
      "metadata": {
        "id": "6RdzleLio2pc"
      }
    },
    {
      "cell_type": "code",
      "source": [
        "device = torch.device('cuda')\n",
        "torch.cuda.empty_cache()\n",
        "\n",
        "model = model = BertForSequenceClassification.from_pretrained('bert-base-uncased', num_labels = 3)\n",
        "model.to(device)"
      ],
      "metadata": {
        "colab": {
          "base_uri": "https://localhost:8080/"
        },
        "id": "ndUwiWDZFPXy",
        "outputId": "f0392175-0a45-4d4b-9639-7033c3a93132"
      },
      "execution_count": 4,
      "outputs": [
        {
          "output_type": "stream",
          "name": "stderr",
          "text": [
            "Some weights of the model checkpoint at bert-base-uncased were not used when initializing BertForSequenceClassification: ['cls.predictions.transform.dense.bias', 'cls.predictions.bias', 'cls.predictions.transform.LayerNorm.weight', 'cls.seq_relationship.bias', 'cls.predictions.transform.LayerNorm.bias', 'cls.predictions.decoder.weight', 'cls.predictions.transform.dense.weight', 'cls.seq_relationship.weight']\n",
            "- This IS expected if you are initializing BertForSequenceClassification from the checkpoint of a model trained on another task or with another architecture (e.g. initializing a BertForSequenceClassification model from a BertForPreTraining model).\n",
            "- This IS NOT expected if you are initializing BertForSequenceClassification from the checkpoint of a model that you expect to be exactly identical (initializing a BertForSequenceClassification model from a BertForSequenceClassification model).\n",
            "Some weights of BertForSequenceClassification were not initialized from the model checkpoint at bert-base-uncased and are newly initialized: ['classifier.weight', 'classifier.bias']\n",
            "You should probably TRAIN this model on a down-stream task to be able to use it for predictions and inference.\n"
          ]
        },
        {
          "output_type": "execute_result",
          "data": {
            "text/plain": [
              "BertForSequenceClassification(\n",
              "  (bert): BertModel(\n",
              "    (embeddings): BertEmbeddings(\n",
              "      (word_embeddings): Embedding(30522, 768, padding_idx=0)\n",
              "      (position_embeddings): Embedding(512, 768)\n",
              "      (token_type_embeddings): Embedding(2, 768)\n",
              "      (LayerNorm): LayerNorm((768,), eps=1e-12, elementwise_affine=True)\n",
              "      (dropout): Dropout(p=0.1, inplace=False)\n",
              "    )\n",
              "    (encoder): BertEncoder(\n",
              "      (layer): ModuleList(\n",
              "        (0): BertLayer(\n",
              "          (attention): BertAttention(\n",
              "            (self): BertSelfAttention(\n",
              "              (query): Linear(in_features=768, out_features=768, bias=True)\n",
              "              (key): Linear(in_features=768, out_features=768, bias=True)\n",
              "              (value): Linear(in_features=768, out_features=768, bias=True)\n",
              "              (dropout): Dropout(p=0.1, inplace=False)\n",
              "            )\n",
              "            (output): BertSelfOutput(\n",
              "              (dense): Linear(in_features=768, out_features=768, bias=True)\n",
              "              (LayerNorm): LayerNorm((768,), eps=1e-12, elementwise_affine=True)\n",
              "              (dropout): Dropout(p=0.1, inplace=False)\n",
              "            )\n",
              "          )\n",
              "          (intermediate): BertIntermediate(\n",
              "            (dense): Linear(in_features=768, out_features=3072, bias=True)\n",
              "          )\n",
              "          (output): BertOutput(\n",
              "            (dense): Linear(in_features=3072, out_features=768, bias=True)\n",
              "            (LayerNorm): LayerNorm((768,), eps=1e-12, elementwise_affine=True)\n",
              "            (dropout): Dropout(p=0.1, inplace=False)\n",
              "          )\n",
              "        )\n",
              "        (1): BertLayer(\n",
              "          (attention): BertAttention(\n",
              "            (self): BertSelfAttention(\n",
              "              (query): Linear(in_features=768, out_features=768, bias=True)\n",
              "              (key): Linear(in_features=768, out_features=768, bias=True)\n",
              "              (value): Linear(in_features=768, out_features=768, bias=True)\n",
              "              (dropout): Dropout(p=0.1, inplace=False)\n",
              "            )\n",
              "            (output): BertSelfOutput(\n",
              "              (dense): Linear(in_features=768, out_features=768, bias=True)\n",
              "              (LayerNorm): LayerNorm((768,), eps=1e-12, elementwise_affine=True)\n",
              "              (dropout): Dropout(p=0.1, inplace=False)\n",
              "            )\n",
              "          )\n",
              "          (intermediate): BertIntermediate(\n",
              "            (dense): Linear(in_features=768, out_features=3072, bias=True)\n",
              "          )\n",
              "          (output): BertOutput(\n",
              "            (dense): Linear(in_features=3072, out_features=768, bias=True)\n",
              "            (LayerNorm): LayerNorm((768,), eps=1e-12, elementwise_affine=True)\n",
              "            (dropout): Dropout(p=0.1, inplace=False)\n",
              "          )\n",
              "        )\n",
              "        (2): BertLayer(\n",
              "          (attention): BertAttention(\n",
              "            (self): BertSelfAttention(\n",
              "              (query): Linear(in_features=768, out_features=768, bias=True)\n",
              "              (key): Linear(in_features=768, out_features=768, bias=True)\n",
              "              (value): Linear(in_features=768, out_features=768, bias=True)\n",
              "              (dropout): Dropout(p=0.1, inplace=False)\n",
              "            )\n",
              "            (output): BertSelfOutput(\n",
              "              (dense): Linear(in_features=768, out_features=768, bias=True)\n",
              "              (LayerNorm): LayerNorm((768,), eps=1e-12, elementwise_affine=True)\n",
              "              (dropout): Dropout(p=0.1, inplace=False)\n",
              "            )\n",
              "          )\n",
              "          (intermediate): BertIntermediate(\n",
              "            (dense): Linear(in_features=768, out_features=3072, bias=True)\n",
              "          )\n",
              "          (output): BertOutput(\n",
              "            (dense): Linear(in_features=3072, out_features=768, bias=True)\n",
              "            (LayerNorm): LayerNorm((768,), eps=1e-12, elementwise_affine=True)\n",
              "            (dropout): Dropout(p=0.1, inplace=False)\n",
              "          )\n",
              "        )\n",
              "        (3): BertLayer(\n",
              "          (attention): BertAttention(\n",
              "            (self): BertSelfAttention(\n",
              "              (query): Linear(in_features=768, out_features=768, bias=True)\n",
              "              (key): Linear(in_features=768, out_features=768, bias=True)\n",
              "              (value): Linear(in_features=768, out_features=768, bias=True)\n",
              "              (dropout): Dropout(p=0.1, inplace=False)\n",
              "            )\n",
              "            (output): BertSelfOutput(\n",
              "              (dense): Linear(in_features=768, out_features=768, bias=True)\n",
              "              (LayerNorm): LayerNorm((768,), eps=1e-12, elementwise_affine=True)\n",
              "              (dropout): Dropout(p=0.1, inplace=False)\n",
              "            )\n",
              "          )\n",
              "          (intermediate): BertIntermediate(\n",
              "            (dense): Linear(in_features=768, out_features=3072, bias=True)\n",
              "          )\n",
              "          (output): BertOutput(\n",
              "            (dense): Linear(in_features=3072, out_features=768, bias=True)\n",
              "            (LayerNorm): LayerNorm((768,), eps=1e-12, elementwise_affine=True)\n",
              "            (dropout): Dropout(p=0.1, inplace=False)\n",
              "          )\n",
              "        )\n",
              "        (4): BertLayer(\n",
              "          (attention): BertAttention(\n",
              "            (self): BertSelfAttention(\n",
              "              (query): Linear(in_features=768, out_features=768, bias=True)\n",
              "              (key): Linear(in_features=768, out_features=768, bias=True)\n",
              "              (value): Linear(in_features=768, out_features=768, bias=True)\n",
              "              (dropout): Dropout(p=0.1, inplace=False)\n",
              "            )\n",
              "            (output): BertSelfOutput(\n",
              "              (dense): Linear(in_features=768, out_features=768, bias=True)\n",
              "              (LayerNorm): LayerNorm((768,), eps=1e-12, elementwise_affine=True)\n",
              "              (dropout): Dropout(p=0.1, inplace=False)\n",
              "            )\n",
              "          )\n",
              "          (intermediate): BertIntermediate(\n",
              "            (dense): Linear(in_features=768, out_features=3072, bias=True)\n",
              "          )\n",
              "          (output): BertOutput(\n",
              "            (dense): Linear(in_features=3072, out_features=768, bias=True)\n",
              "            (LayerNorm): LayerNorm((768,), eps=1e-12, elementwise_affine=True)\n",
              "            (dropout): Dropout(p=0.1, inplace=False)\n",
              "          )\n",
              "        )\n",
              "        (5): BertLayer(\n",
              "          (attention): BertAttention(\n",
              "            (self): BertSelfAttention(\n",
              "              (query): Linear(in_features=768, out_features=768, bias=True)\n",
              "              (key): Linear(in_features=768, out_features=768, bias=True)\n",
              "              (value): Linear(in_features=768, out_features=768, bias=True)\n",
              "              (dropout): Dropout(p=0.1, inplace=False)\n",
              "            )\n",
              "            (output): BertSelfOutput(\n",
              "              (dense): Linear(in_features=768, out_features=768, bias=True)\n",
              "              (LayerNorm): LayerNorm((768,), eps=1e-12, elementwise_affine=True)\n",
              "              (dropout): Dropout(p=0.1, inplace=False)\n",
              "            )\n",
              "          )\n",
              "          (intermediate): BertIntermediate(\n",
              "            (dense): Linear(in_features=768, out_features=3072, bias=True)\n",
              "          )\n",
              "          (output): BertOutput(\n",
              "            (dense): Linear(in_features=3072, out_features=768, bias=True)\n",
              "            (LayerNorm): LayerNorm((768,), eps=1e-12, elementwise_affine=True)\n",
              "            (dropout): Dropout(p=0.1, inplace=False)\n",
              "          )\n",
              "        )\n",
              "        (6): BertLayer(\n",
              "          (attention): BertAttention(\n",
              "            (self): BertSelfAttention(\n",
              "              (query): Linear(in_features=768, out_features=768, bias=True)\n",
              "              (key): Linear(in_features=768, out_features=768, bias=True)\n",
              "              (value): Linear(in_features=768, out_features=768, bias=True)\n",
              "              (dropout): Dropout(p=0.1, inplace=False)\n",
              "            )\n",
              "            (output): BertSelfOutput(\n",
              "              (dense): Linear(in_features=768, out_features=768, bias=True)\n",
              "              (LayerNorm): LayerNorm((768,), eps=1e-12, elementwise_affine=True)\n",
              "              (dropout): Dropout(p=0.1, inplace=False)\n",
              "            )\n",
              "          )\n",
              "          (intermediate): BertIntermediate(\n",
              "            (dense): Linear(in_features=768, out_features=3072, bias=True)\n",
              "          )\n",
              "          (output): BertOutput(\n",
              "            (dense): Linear(in_features=3072, out_features=768, bias=True)\n",
              "            (LayerNorm): LayerNorm((768,), eps=1e-12, elementwise_affine=True)\n",
              "            (dropout): Dropout(p=0.1, inplace=False)\n",
              "          )\n",
              "        )\n",
              "        (7): BertLayer(\n",
              "          (attention): BertAttention(\n",
              "            (self): BertSelfAttention(\n",
              "              (query): Linear(in_features=768, out_features=768, bias=True)\n",
              "              (key): Linear(in_features=768, out_features=768, bias=True)\n",
              "              (value): Linear(in_features=768, out_features=768, bias=True)\n",
              "              (dropout): Dropout(p=0.1, inplace=False)\n",
              "            )\n",
              "            (output): BertSelfOutput(\n",
              "              (dense): Linear(in_features=768, out_features=768, bias=True)\n",
              "              (LayerNorm): LayerNorm((768,), eps=1e-12, elementwise_affine=True)\n",
              "              (dropout): Dropout(p=0.1, inplace=False)\n",
              "            )\n",
              "          )\n",
              "          (intermediate): BertIntermediate(\n",
              "            (dense): Linear(in_features=768, out_features=3072, bias=True)\n",
              "          )\n",
              "          (output): BertOutput(\n",
              "            (dense): Linear(in_features=3072, out_features=768, bias=True)\n",
              "            (LayerNorm): LayerNorm((768,), eps=1e-12, elementwise_affine=True)\n",
              "            (dropout): Dropout(p=0.1, inplace=False)\n",
              "          )\n",
              "        )\n",
              "        (8): BertLayer(\n",
              "          (attention): BertAttention(\n",
              "            (self): BertSelfAttention(\n",
              "              (query): Linear(in_features=768, out_features=768, bias=True)\n",
              "              (key): Linear(in_features=768, out_features=768, bias=True)\n",
              "              (value): Linear(in_features=768, out_features=768, bias=True)\n",
              "              (dropout): Dropout(p=0.1, inplace=False)\n",
              "            )\n",
              "            (output): BertSelfOutput(\n",
              "              (dense): Linear(in_features=768, out_features=768, bias=True)\n",
              "              (LayerNorm): LayerNorm((768,), eps=1e-12, elementwise_affine=True)\n",
              "              (dropout): Dropout(p=0.1, inplace=False)\n",
              "            )\n",
              "          )\n",
              "          (intermediate): BertIntermediate(\n",
              "            (dense): Linear(in_features=768, out_features=3072, bias=True)\n",
              "          )\n",
              "          (output): BertOutput(\n",
              "            (dense): Linear(in_features=3072, out_features=768, bias=True)\n",
              "            (LayerNorm): LayerNorm((768,), eps=1e-12, elementwise_affine=True)\n",
              "            (dropout): Dropout(p=0.1, inplace=False)\n",
              "          )\n",
              "        )\n",
              "        (9): BertLayer(\n",
              "          (attention): BertAttention(\n",
              "            (self): BertSelfAttention(\n",
              "              (query): Linear(in_features=768, out_features=768, bias=True)\n",
              "              (key): Linear(in_features=768, out_features=768, bias=True)\n",
              "              (value): Linear(in_features=768, out_features=768, bias=True)\n",
              "              (dropout): Dropout(p=0.1, inplace=False)\n",
              "            )\n",
              "            (output): BertSelfOutput(\n",
              "              (dense): Linear(in_features=768, out_features=768, bias=True)\n",
              "              (LayerNorm): LayerNorm((768,), eps=1e-12, elementwise_affine=True)\n",
              "              (dropout): Dropout(p=0.1, inplace=False)\n",
              "            )\n",
              "          )\n",
              "          (intermediate): BertIntermediate(\n",
              "            (dense): Linear(in_features=768, out_features=3072, bias=True)\n",
              "          )\n",
              "          (output): BertOutput(\n",
              "            (dense): Linear(in_features=3072, out_features=768, bias=True)\n",
              "            (LayerNorm): LayerNorm((768,), eps=1e-12, elementwise_affine=True)\n",
              "            (dropout): Dropout(p=0.1, inplace=False)\n",
              "          )\n",
              "        )\n",
              "        (10): BertLayer(\n",
              "          (attention): BertAttention(\n",
              "            (self): BertSelfAttention(\n",
              "              (query): Linear(in_features=768, out_features=768, bias=True)\n",
              "              (key): Linear(in_features=768, out_features=768, bias=True)\n",
              "              (value): Linear(in_features=768, out_features=768, bias=True)\n",
              "              (dropout): Dropout(p=0.1, inplace=False)\n",
              "            )\n",
              "            (output): BertSelfOutput(\n",
              "              (dense): Linear(in_features=768, out_features=768, bias=True)\n",
              "              (LayerNorm): LayerNorm((768,), eps=1e-12, elementwise_affine=True)\n",
              "              (dropout): Dropout(p=0.1, inplace=False)\n",
              "            )\n",
              "          )\n",
              "          (intermediate): BertIntermediate(\n",
              "            (dense): Linear(in_features=768, out_features=3072, bias=True)\n",
              "          )\n",
              "          (output): BertOutput(\n",
              "            (dense): Linear(in_features=3072, out_features=768, bias=True)\n",
              "            (LayerNorm): LayerNorm((768,), eps=1e-12, elementwise_affine=True)\n",
              "            (dropout): Dropout(p=0.1, inplace=False)\n",
              "          )\n",
              "        )\n",
              "        (11): BertLayer(\n",
              "          (attention): BertAttention(\n",
              "            (self): BertSelfAttention(\n",
              "              (query): Linear(in_features=768, out_features=768, bias=True)\n",
              "              (key): Linear(in_features=768, out_features=768, bias=True)\n",
              "              (value): Linear(in_features=768, out_features=768, bias=True)\n",
              "              (dropout): Dropout(p=0.1, inplace=False)\n",
              "            )\n",
              "            (output): BertSelfOutput(\n",
              "              (dense): Linear(in_features=768, out_features=768, bias=True)\n",
              "              (LayerNorm): LayerNorm((768,), eps=1e-12, elementwise_affine=True)\n",
              "              (dropout): Dropout(p=0.1, inplace=False)\n",
              "            )\n",
              "          )\n",
              "          (intermediate): BertIntermediate(\n",
              "            (dense): Linear(in_features=768, out_features=3072, bias=True)\n",
              "          )\n",
              "          (output): BertOutput(\n",
              "            (dense): Linear(in_features=3072, out_features=768, bias=True)\n",
              "            (LayerNorm): LayerNorm((768,), eps=1e-12, elementwise_affine=True)\n",
              "            (dropout): Dropout(p=0.1, inplace=False)\n",
              "          )\n",
              "        )\n",
              "      )\n",
              "    )\n",
              "    (pooler): BertPooler(\n",
              "      (dense): Linear(in_features=768, out_features=768, bias=True)\n",
              "      (activation): Tanh()\n",
              "    )\n",
              "  )\n",
              "  (dropout): Dropout(p=0.1, inplace=False)\n",
              "  (classifier): Linear(in_features=768, out_features=3, bias=True)\n",
              ")"
            ]
          },
          "metadata": {},
          "execution_count": 4
        }
      ]
    },
    {
      "cell_type": "markdown",
      "source": [
        "## **Model Training**"
      ],
      "metadata": {
        "id": "N4ywK4cdz61_"
      }
    },
    {
      "cell_type": "code",
      "source": [
        "optimizer = torch.optim.AdamW(model.parameters(), 0.00005)\n",
        "num_of_epochs = 2\n",
        "\n",
        "model.train()\n",
        "for epoch in range(num_of_epochs):\n",
        "  training_batch_losses = []\n",
        "  validation_batch_losses = []\n",
        "  \n",
        "  for batch in train_dataloader:\n",
        "      model.zero_grad()\n",
        "      gpu_batch = (i.to(device) for i in batch)\n",
        "      batch = tuple(gpu_batch)   \n",
        "      out = model(input_ids=batch[0], attention_mask=batch[1], labels=batch[2])\n",
        "      loss = out['loss']\n",
        "      training_batch_losses.append(loss.item())\n",
        "\n",
        "      loss.backward()\n",
        "      optimizer.step()\n",
        "\n",
        "  for batch in validation_dataloader:\n",
        "      gpu_batch = (i.to(device) for i in batch)\n",
        "      batch = tuple(gpu_batch)   \n",
        "      out = model(input_ids=batch[0], attention_mask=batch[1], labels=batch[2])\n",
        "      loss = out['loss']\n",
        "      validation_batch_losses.append(loss.item())    \n",
        "\n",
        "    \n",
        "  print('Epoch: ' + str(epoch+1) + '/' + str(num_of_epochs) + ' Training Loss: ' + str(round(sum(training_batch_losses)/len(train_dataloader), 4)) + ' Validation Loss: ' + str(round(sum(validation_batch_losses)/len(validation_dataloader), 4)))\n",
        "\n",
        "  print('----------------------------------------------------------')\n"
      ],
      "metadata": {
        "colab": {
          "base_uri": "https://localhost:8080/"
        },
        "id": "L_2z9GWUUIv0",
        "outputId": "d3c73201-1352-423b-9026-f896a5e774b1"
      },
      "execution_count": 5,
      "outputs": [
        {
          "output_type": "stream",
          "name": "stdout",
          "text": [
            "Epoch: 1/2 Training Loss: 0.6919 Validation Loss: 0.6291\n",
            "----------------------------------------------------------\n",
            "Epoch: 2/2 Training Loss: 0.5148 Validation Loss: 0.6149\n",
            "----------------------------------------------------------\n"
          ]
        }
      ]
    },
    {
      "cell_type": "markdown",
      "source": [
        "## **Model Evaluation**"
      ],
      "metadata": {
        "id": "v-nPkgr82eHJ"
      }
    },
    {
      "cell_type": "code",
      "source": [
        "model.eval()\n",
        "\n",
        "real_values = []\n",
        "predictions = []\n",
        "\n",
        "for batch in validation_dataloader:\n",
        "  real_values = real_values + batch[2].tolist()\n",
        "  gpu_batch = (i.to(device) for i in batch)\n",
        "  batch = tuple(gpu_batch)   \n",
        "  predictions = predictions + torch.argmax(model(input_ids=batch[0], attention_mask=batch[1], labels=batch[2])['logits'], dim=1).tolist()\n",
        "\n",
        "print('Actual Values   : ' + str(real_values))\n",
        "print('Predicted Values: ' + str(predictions))\n"
      ],
      "metadata": {
        "colab": {
          "base_uri": "https://localhost:8080/"
        },
        "id": "ZA8AkFg6rl1k",
        "outputId": "4489d0b4-b8d2-4a9c-9cfd-bcda55d45bf4"
      },
      "execution_count": 8,
      "outputs": [
        {
          "output_type": "stream",
          "name": "stdout",
          "text": [
            "Actual Values   : [2, 0, 2, 2, 0, 0, 2, 0, 0, 2, 0, 0, 0, 0, 0, 2, 2, 1, 2, 0, 0, 0, 0, 0, 0, 2, 1, 2, 0, 2, 1, 0, 2, 0, 1, 2, 0, 0, 1, 0, 0, 2, 2, 0, 0, 0, 0, 0, 0, 0, 0, 0, 1, 2, 2, 1, 2, 0, 0, 1, 2, 2, 0, 2, 1, 0, 2, 2, 0, 2, 2, 0, 2, 0, 0, 0, 0, 0, 0, 0, 0, 2, 0, 2, 2, 2, 1, 2, 2, 0, 1, 0, 1, 0, 0, 0, 0, 1, 2, 0, 2, 2, 0, 2, 0, 1, 2, 2, 0, 2, 2, 2, 0, 1, 0, 2, 0, 2, 0, 0, 2, 0, 2, 2, 0, 0, 1, 2, 0, 0, 0, 2, 0, 1, 0, 0, 0, 2, 1, 2, 0, 0, 0, 2, 1, 2, 0, 2, 0, 2, 2, 0, 2, 2, 0, 2, 0, 0, 1, 2, 1, 0, 2, 2, 1, 2, 1, 1, 2, 2, 0, 0, 0, 2, 0, 0, 2, 2, 2, 2, 0, 1, 2, 2, 2, 1, 2, 0, 2, 0, 2, 2, 1, 0, 2, 2, 2, 1, 0, 2, 0, 0, 2, 0, 0, 0, 2, 1, 2, 0, 0, 0, 2, 0, 2, 2, 0, 2, 0, 2, 2, 2, 0, 0, 0, 2, 1, 0, 2, 2, 0, 0, 2, 0, 0, 0, 1, 1, 1, 2, 1, 0, 0, 2, 0, 0, 0, 0, 1, 0, 2, 0, 0, 1, 2, 2, 2, 0, 0, 1, 0, 2, 2, 2, 0, 1, 2, 2, 1, 0, 2, 1, 0, 2, 0, 2, 2, 0, 2, 0, 2, 2, 2, 0, 0, 0, 2, 1, 2, 2, 2, 0, 2, 2, 1, 2, 2, 0, 0, 2, 2, 1, 0, 0, 0, 2, 1, 1, 2, 0, 2, 1, 0, 1, 2, 1, 0, 1, 0, 2, 1, 0, 0, 2, 2, 2, 2, 0, 2, 0, 2, 2, 2, 1, 2, 2, 0, 2, 2, 2, 2, 0, 0, 0, 2, 2, 0, 2, 2, 2, 0, 0, 2, 2, 0, 1, 2, 0, 2, 0, 0, 2, 0, 1, 0, 0, 0, 1, 0, 1, 1, 0, 0, 0, 2, 0, 0, 0, 1, 2, 2, 2, 0, 0, 0, 0, 2, 2, 2, 0, 2, 0, 2, 0, 0, 0, 1, 0, 2, 0, 2, 0, 0, 0, 2, 0, 0, 0, 2, 1, 1, 2, 2, 0, 0, 0, 0, 0, 0, 0, 2, 0, 1, 2, 0, 1, 2, 2, 2, 0, 2, 0, 0, 2, 0, 2, 0, 2, 2, 2, 0, 2, 0, 0, 0, 2, 2, 2, 0, 0, 0, 2, 0, 2, 0, 0, 1, 1, 2, 0, 0, 2, 0, 0, 0, 2, 1, 2, 0, 2, 2, 2, 0, 2, 2, 2, 0, 2, 0, 0, 0, 2, 2, 2, 0, 2, 2, 0, 0, 0, 0, 0, 0, 2, 0, 0, 0, 0, 1, 2, 1, 2, 0, 2, 2, 2, 0, 2, 2, 2, 0, 0, 0, 0, 2, 0, 2, 0, 0, 0, 2, 0, 2, 0, 2, 2, 0, 1, 0, 2, 2, 2, 0, 2, 2, 0, 2, 2, 1, 0, 0, 0, 0, 0, 0, 0, 1, 2, 0, 0, 0, 0, 1, 0, 2, 2, 0, 0, 0, 2, 2, 0, 2, 1, 0, 0, 2, 2, 0, 0, 2, 1, 0, 0, 0, 0, 2, 0, 2, 0, 0, 0, 0, 2, 2, 2, 0, 0, 0, 0, 0, 0, 0, 0, 0, 0, 2, 2, 0, 1, 0, 2, 0, 2, 1, 2, 2, 0, 0, 2, 0, 0, 0, 0, 0, 0, 0, 0, 0, 0, 0, 2, 0, 0, 2, 2, 2, 0, 0, 0, 2, 2, 2, 2, 2, 2, 2, 0, 0, 2, 0, 2, 0, 0, 1, 2, 0, 0, 0, 2, 0, 0, 2, 2, 0, 2, 0, 2, 2, 0, 0, 0, 0, 2, 2, 0, 2, 0, 0, 0, 1, 2, 2, 2, 0, 2, 0, 2, 0, 1, 2, 2, 0, 0, 0, 0, 0, 0, 0, 1, 2, 2, 2, 2, 2, 0, 1, 0, 2, 2, 2, 2, 0, 2, 1, 1, 2, 2, 0, 0, 2, 2, 2, 2, 0, 2, 2, 0, 0, 1, 0, 0, 2, 0, 2, 0, 2, 0, 2, 2, 2, 2, 2, 0, 1, 0, 2, 0, 2, 2, 2, 2, 0, 0, 0, 0, 1, 2, 2, 0, 0, 2, 0, 0, 0, 1, 0, 2, 1, 2, 1, 2, 2, 2, 2, 2, 2, 2, 1, 1, 2, 2, 0, 0, 2, 2, 0, 2, 0, 0, 2, 0, 1, 1, 2, 2, 2, 2, 0, 0, 2, 0, 2, 2, 2, 0, 2, 0, 0, 2, 2, 2, 2, 1, 0, 2, 2, 0, 1, 2, 0, 2, 2, 2, 2, 2, 2, 0, 2, 0, 0, 2, 2, 0, 2, 0, 0, 0, 0, 2, 2, 0, 0, 0, 0, 0, 0, 0, 2, 2, 0, 0, 2, 0, 0, 1, 0, 2, 2, 2, 0, 1, 0, 0, 0, 2, 0, 2, 0, 0, 0, 2, 0, 0, 2, 0, 2, 2, 0, 0, 0, 0, 0, 0, 0, 0, 0, 0, 0, 1, 0, 2, 0, 0, 2, 0, 0, 0, 2, 2, 1, 0, 0, 0, 0, 0, 2, 1, 0, 1, 0, 0, 0, 0, 2, 0, 0, 1, 2, 2, 0, 2, 2, 0, 2, 2, 2, 0, 0, 0, 0, 0, 0, 0, 2, 1, 2, 1, 1, 2, 0, 2, 1, 1, 2, 2, 1, 0, 0, 2, 0, 1, 2, 2, 2, 1, 2, 0, 0, 0, 2, 2, 0, 0, 1, 2, 2, 2, 2, 0, 2, 2, 2, 1, 0, 2, 1, 2, 2, 2, 0, 0, 0, 0, 0, 0, 2, 0, 2, 0, 1, 2, 2, 2, 1, 0, 0, 2, 0, 0, 2, 0, 2, 1, 0, 2, 1, 1, 2, 2, 2, 2, 2, 2, 0, 2, 2, 0, 0, 0, 1, 0, 0, 2, 1, 2, 0, 0, 0, 2, 0, 2, 0, 0, 2, 1, 0, 0, 2, 2, 0, 1, 0, 2, 0, 2, 2, 0, 2, 1, 2, 0, 2, 2, 0, 0, 2, 0, 2, 1, 0, 2, 2, 2, 2, 2, 0, 2, 2, 0, 0, 2, 2, 0, 1, 2, 2, 0, 0, 1, 0, 0, 1, 1, 0, 2, 0, 0, 2, 2, 0, 1, 1, 0, 0, 2, 0, 0, 0, 0, 0, 0, 1, 0, 0, 0, 0, 1, 0, 0, 2, 0, 0, 2, 0, 0, 2, 2, 2, 0, 1, 0, 0, 0, 0, 1, 2, 0, 0, 0, 0, 0, 0, 1, 0, 0, 0, 2, 1, 2, 0, 0, 2, 2, 1, 0, 0, 2, 1, 2, 0, 2, 2, 2, 1, 2, 0, 2, 2, 2, 1, 0, 0, 2, 0, 0, 0, 0, 1, 2, 0, 1, 2, 0, 2, 0, 1, 2, 0, 0, 0, 2, 0, 0, 0, 0, 2, 0, 0, 2, 2, 2, 2, 0, 2, 1, 0, 0, 2, 1, 2, 2, 0, 2, 0, 0, 2, 0, 0, 0, 2, 2, 2, 1, 2, 0, 1, 0, 2, 1, 1, 0, 0, 1, 0, 0, 1, 0, 0, 2, 2, 0, 0, 0, 0, 0, 2, 2, 1, 0, 1, 0, 2, 0, 0, 0, 1, 2, 2, 2, 1, 0, 0, 0, 2, 2, 0, 0, 2, 2, 0, 0, 1, 0, 0, 0, 2, 0, 0, 0, 0, 1, 0, 0, 2, 1, 2, 2, 0, 0, 0, 0, 0, 0, 0, 0, 1, 1, 0, 0, 2, 1, 0, 0, 1, 0, 0, 2, 0, 2, 2, 0, 2, 2, 0, 2, 2, 0, 0, 2, 1, 0, 2, 0, 1, 2, 0, 0, 0, 2, 0, 2, 2, 2, 0, 0, 2, 0, 0, 2, 1, 2, 1, 1, 0, 0, 2, 0, 2, 2, 2, 0, 0, 0, 0, 1, 0, 1, 1, 0, 0, 2, 0, 2, 0, 2, 0, 0, 2, 0, 0, 1, 2, 2, 0, 2, 1, 2, 0, 0, 0, 0, 2, 0, 0, 2, 0, 2, 2, 2, 2, 2, 2, 2, 2, 0, 2, 0, 2, 0, 1, 2, 0, 0, 2, 2, 2, 0, 0, 0, 0, 2, 0, 2, 0, 0, 2, 0, 1, 2, 2, 2, 2, 0, 2, 0, 2, 2, 0, 2, 1, 0, 1, 0, 2, 2, 2, 2, 0, 2, 0, 0, 2, 2, 0, 0, 0, 2, 0, 2, 2, 2, 0, 0, 0, 2, 1, 1, 0, 2, 2, 0, 0, 2, 2, 0, 0, 0, 0, 0, 2, 0, 2, 1, 1, 2, 1, 0, 0, 0, 1, 2, 0, 0, 2, 1, 1, 0, 2, 2, 2, 2, 0, 0, 2, 0, 2, 0, 0, 2, 1, 0, 0, 2, 0, 0, 0, 1, 0, 0, 2, 0, 2, 0, 1, 2, 2, 2, 1, 0, 2, 1, 0, 2, 2, 2, 2, 0, 2, 0, 2, 2, 0, 0, 2, 2, 2, 1, 2, 1, 2, 0, 2, 1, 0, 1, 0, 2, 0, 0, 2, 2, 0, 0, 2, 1, 1, 0, 0, 2, 0, 0, 1, 0, 0, 0, 0, 2, 2, 0, 2, 2, 0, 0, 0, 1, 0, 0, 2, 2, 0, 2, 0, 1, 0, 1, 2, 0, 2, 0, 0, 2, 0, 2, 0, 0, 2, 0, 0, 0, 2, 2, 0, 0, 0, 1, 1, 2, 0, 0, 1, 1, 0, 0, 1, 2, 0, 1, 2, 2, 2, 2, 2, 2, 0, 2, 0, 0, 1, 0, 0, 0, 2, 2, 0, 2, 0, 1, 0, 0, 1, 2, 0, 2, 2, 0, 2, 1, 0, 2, 0, 2, 2, 2, 0, 2, 0, 1, 1, 2, 0, 2, 0, 2, 2, 0, 1, 2, 0, 2, 1, 2, 0, 2, 2, 2, 1, 2, 2, 0, 2, 0, 0, 0, 0, 0, 2, 1, 2, 0, 0, 2, 2, 2, 0, 0, 2, 0, 2, 0, 0, 0, 2, 0, 0, 0, 0, 0, 0, 2, 0, 2, 2, 0, 2, 2, 2, 2, 1, 0, 0, 1, 1, 0, 0, 2, 0, 0, 0, 0, 2, 2, 0, 1, 0, 0, 0, 1, 2, 2, 0, 0, 2, 0, 0, 2, 2, 0, 2, 2, 0, 2, 0, 2, 2, 2, 2, 0, 2, 0, 0, 2, 1, 0, 0, 0, 1, 0, 0, 2, 2, 2, 0, 0, 2, 1, 1, 2, 1, 2, 2, 0, 0, 0, 2, 0, 0, 0, 2, 2, 2, 0, 2, 2, 1, 1, 2, 0, 0, 0, 2, 0, 0, 1, 0, 0, 2, 2, 2, 2, 0, 2, 0, 2, 2, 0, 0, 0, 2, 2, 0, 0, 2, 2, 2, 0, 2, 2, 1, 0, 1, 2, 0, 0, 0, 0, 2, 2, 0, 0, 2, 2, 2, 2, 0, 1, 2, 0, 2, 2, 2, 0, 0, 1, 0, 1, 0, 0, 0, 1, 0, 2, 2, 2, 2, 1, 2, 0, 2, 0, 2, 2, 2, 1, 2, 2, 2, 0, 0, 2, 0, 2, 1, 0, 0, 0, 2, 1, 0, 2, 0, 2, 0, 2, 2, 0, 0, 2, 1, 1, 2, 2, 0, 2, 2, 2, 0, 0, 2, 2, 0, 2, 1, 0, 1, 0, 0, 2, 2, 2, 2, 2, 2, 0, 0, 2, 0, 0, 2, 2, 2, 0, 2, 2, 0, 1, 0, 2, 0, 2, 0, 2, 2, 0, 0, 0, 0, 1, 0, 0, 0, 0, 2, 2, 2, 2, 0, 0, 0, 0, 2, 1, 2, 0, 0, 2, 2, 1, 0, 2, 0, 0, 0, 0, 0, 1, 1, 2, 1, 1, 0, 0, 2, 1, 1, 1, 2, 2, 2, 0, 2, 0, 0, 0, 0, 2, 2, 2, 1, 0, 1, 1, 1, 0, 2, 0, 2, 2, 0, 2, 0, 2, 1, 2, 0, 2, 0, 2, 0, 0, 0, 1, 2, 2, 2, 1, 0, 0, 0, 0, 2, 1, 2, 1, 2, 0, 2, 2, 2, 0, 1, 0, 2, 0, 2, 2, 0, 0, 0, 0, 0, 2, 2, 0, 0, 2, 2, 0, 2, 0, 0, 2, 0, 0, 2, 2, 0, 2, 2, 0, 2, 0, 0, 0, 2, 0, 2, 2, 0, 2, 2, 0, 0, 1, 2, 0, 2, 2, 2, 2, 0, 2, 1, 2, 2, 2, 0, 0, 0, 0, 0, 0, 1, 2, 2, 0, 2, 1, 0, 2, 2, 0, 0, 1, 0, 2, 2, 1, 0, 2, 2, 2, 2, 0, 2, 0, 0, 0, 1, 0, 1, 2, 2, 1, 2, 2, 2, 0, 0, 2, 0, 0, 2, 2, 0, 0, 1, 2, 2, 0, 2, 0, 1, 1, 2, 0, 1, 0, 2, 0, 2, 2, 2, 2, 0, 0, 0, 0, 0, 2, 2, 0, 0, 0, 1, 0, 2, 0, 2, 1, 0, 1, 0, 2, 0, 0, 0, 0, 0, 2, 2, 2, 2, 2, 1, 0, 2, 1, 0, 0, 0, 1, 2, 2, 2, 0, 0, 0, 2, 2, 2, 0, 2, 0, 1, 0, 0, 0, 1, 0, 1, 2, 1, 1, 2, 0, 0, 2, 2, 2, 2, 0, 0, 0, 1, 0, 2, 2, 0, 0, 1, 0, 0, 0, 0, 2, 0, 0, 2, 2, 0, 2, 0, 2, 2, 2, 0, 2, 0, 0, 0, 0, 0, 0, 0, 0, 2, 2, 0, 0, 0, 0, 2, 1, 2, 2, 2, 2, 2, 2, 2, 1, 1, 2, 2, 2, 0, 0, 0, 0, 1, 2, 1, 2, 1, 0, 0, 1, 2, 1, 2, 0]\n",
            "Predicted Values: [2, 0, 2, 2, 0, 0, 2, 0, 2, 2, 0, 2, 0, 0, 0, 2, 2, 2, 1, 0, 1, 0, 0, 2, 0, 0, 2, 0, 0, 2, 1, 0, 2, 0, 2, 2, 0, 0, 1, 0, 0, 2, 2, 0, 0, 0, 1, 2, 0, 0, 0, 2, 2, 2, 2, 1, 2, 0, 0, 2, 2, 2, 0, 2, 2, 2, 2, 2, 2, 2, 2, 0, 2, 0, 0, 0, 2, 0, 0, 2, 0, 2, 0, 2, 2, 2, 0, 0, 2, 1, 2, 0, 1, 0, 2, 0, 0, 2, 0, 2, 2, 0, 0, 2, 0, 1, 0, 2, 0, 2, 2, 2, 0, 1, 0, 2, 0, 1, 0, 0, 1, 2, 2, 2, 0, 0, 2, 0, 0, 0, 0, 2, 2, 1, 0, 2, 0, 2, 2, 2, 0, 0, 0, 2, 2, 2, 0, 2, 0, 2, 2, 0, 2, 2, 0, 2, 0, 0, 1, 2, 1, 0, 2, 2, 2, 2, 2, 1, 1, 2, 0, 2, 0, 2, 2, 0, 1, 0, 2, 1, 2, 1, 0, 2, 2, 1, 0, 0, 2, 0, 0, 2, 0, 2, 2, 2, 2, 1, 2, 2, 2, 1, 0, 0, 2, 2, 2, 2, 2, 0, 2, 0, 2, 0, 2, 2, 0, 2, 0, 2, 2, 2, 0, 0, 0, 2, 1, 0, 2, 1, 0, 0, 2, 0, 1, 0, 0, 2, 2, 2, 0, 0, 2, 2, 0, 0, 0, 2, 1, 2, 2, 0, 2, 0, 2, 2, 1, 0, 0, 2, 0, 2, 2, 0, 2, 1, 2, 2, 1, 0, 0, 2, 0, 2, 0, 2, 2, 0, 2, 0, 2, 2, 2, 0, 0, 0, 2, 2, 2, 2, 2, 2, 2, 2, 2, 0, 2, 0, 0, 2, 2, 1, 0, 0, 0, 1, 2, 1, 1, 0, 2, 2, 0, 1, 0, 2, 0, 2, 0, 2, 1, 0, 0, 2, 2, 2, 2, 0, 2, 2, 2, 2, 2, 1, 2, 2, 0, 0, 2, 2, 2, 0, 0, 0, 0, 2, 0, 2, 2, 2, 0, 0, 2, 2, 0, 1, 2, 0, 2, 0, 0, 0, 0, 2, 2, 0, 0, 2, 0, 1, 2, 0, 0, 0, 2, 0, 2, 2, 1, 0, 2, 2, 2, 0, 0, 0, 2, 2, 0, 0, 2, 2, 2, 0, 0, 0, 1, 0, 2, 0, 2, 0, 2, 0, 2, 0, 0, 0, 1, 1, 1, 2, 0, 0, 2, 0, 0, 0, 2, 0, 2, 0, 0, 2, 0, 1, 2, 2, 2, 0, 2, 0, 2, 2, 2, 2, 0, 2, 2, 1, 1, 2, 0, 2, 0, 0, 0, 2, 0, 0, 0, 0, 0, 2, 0, 2, 2, 1, 2, 0, 2, 2, 0, 2, 0, 2, 1, 0, 2, 2, 2, 2, 0, 0, 2, 2, 0, 2, 0, 2, 0, 2, 2, 2, 0, 2, 2, 0, 2, 0, 2, 0, 0, 2, 0, 0, 0, 0, 1, 2, 2, 2, 0, 2, 2, 2, 2, 2, 2, 2, 0, 0, 2, 0, 2, 0, 2, 2, 0, 0, 2, 0, 0, 0, 2, 2, 0, 2, 0, 0, 2, 2, 0, 2, 2, 0, 2, 2, 2, 0, 0, 0, 0, 0, 0, 0, 2, 2, 0, 0, 0, 0, 0, 0, 0, 2, 0, 0, 1, 2, 2, 0, 2, 1, 2, 0, 0, 0, 0, 2, 0, 1, 2, 0, 0, 0, 2, 0, 2, 2, 0, 2, 2, 2, 2, 2, 0, 0, 2, 1, 0, 0, 0, 0, 0, 0, 2, 0, 0, 2, 0, 2, 2, 0, 2, 0, 1, 0, 0, 2, 2, 1, 0, 0, 0, 0, 0, 0, 0, 0, 0, 0, 0, 0, 2, 2, 2, 0, 0, 0, 2, 2, 0, 2, 2, 2, 0, 0, 0, 2, 0, 2, 0, 0, 0, 0, 0, 0, 0, 2, 0, 0, 2, 2, 0, 2, 0, 2, 2, 1, 0, 2, 0, 2, 0, 0, 2, 0, 0, 0, 1, 0, 2, 2, 2, 2, 0, 2, 0, 1, 2, 0, 0, 0, 0, 0, 0, 2, 0, 1, 2, 2, 2, 2, 2, 0, 1, 0, 2, 2, 2, 2, 2, 2, 1, 1, 2, 2, 0, 0, 1, 2, 2, 0, 0, 2, 2, 0, 0, 1, 0, 2, 1, 0, 2, 0, 2, 0, 2, 2, 2, 2, 2, 0, 0, 0, 2, 0, 2, 2, 2, 2, 0, 0, 0, 0, 2, 2, 2, 0, 2, 2, 1, 0, 0, 2, 0, 2, 1, 2, 2, 2, 2, 2, 1, 0, 2, 2, 0, 2, 2, 2, 0, 0, 0, 2, 0, 2, 0, 0, 2, 0, 0, 1, 0, 2, 2, 2, 2, 0, 2, 2, 2, 0, 2, 0, 2, 0, 0, 0, 2, 2, 2, 2, 1, 2, 2, 0, 1, 2, 0, 2, 2, 0, 0, 2, 2, 0, 2, 0, 2, 2, 2, 2, 0, 2, 2, 0, 0, 2, 2, 0, 0, 2, 0, 0, 0, 0, 2, 2, 2, 2, 2, 2, 0, 0, 2, 2, 2, 0, 0, 1, 0, 0, 0, 2, 0, 2, 2, 0, 0, 1, 2, 0, 0, 0, 1, 2, 2, 2, 2, 2, 0, 0, 0, 0, 0, 0, 0, 1, 0, 2, 2, 0, 2, 0, 1, 0, 2, 2, 2, 0, 0, 0, 0, 0, 2, 0, 0, 1, 0, 0, 0, 0, 0, 0, 1, 2, 2, 2, 0, 2, 2, 1, 1, 2, 2, 0, 2, 2, 0, 0, 0, 2, 2, 1, 0, 0, 1, 2, 0, 2, 0, 2, 0, 0, 1, 0, 0, 2, 0, 0, 2, 2, 2, 1, 2, 2, 0, 0, 2, 0, 0, 0, 1, 0, 2, 2, 2, 0, 1, 2, 2, 1, 0, 2, 2, 2, 2, 2, 0, 0, 0, 0, 0, 0, 2, 0, 2, 0, 1, 2, 2, 0, 0, 0, 0, 2, 0, 2, 2, 0, 2, 1, 2, 2, 0, 1, 2, 0, 1, 2, 2, 2, 0, 0, 2, 0, 0, 0, 1, 0, 0, 2, 2, 2, 0, 0, 0, 2, 0, 0, 0, 0, 2, 1, 0, 0, 2, 0, 0, 1, 0, 2, 0, 2, 2, 0, 2, 1, 0, 0, 2, 2, 0, 0, 0, 0, 0, 1, 0, 2, 0, 2, 2, 2, 0, 2, 2, 1, 0, 2, 2, 2, 1, 1, 0, 0, 0, 1, 0, 0, 1, 1, 0, 2, 0, 0, 2, 2, 2, 1, 2, 0, 0, 2, 0, 0, 2, 2, 0, 0, 0, 2, 0, 0, 0, 2, 0, 0, 0, 2, 0, 2, 0, 0, 0, 2, 2, 0, 2, 2, 0, 0, 0, 2, 2, 2, 0, 0, 0, 0, 0, 2, 0, 0, 0, 2, 1, 2, 0, 0, 1, 2, 0, 0, 2, 2, 1, 2, 2, 2, 0, 2, 2, 2, 0, 0, 0, 2, 2, 0, 0, 2, 0, 0, 0, 0, 1, 1, 0, 1, 0, 0, 2, 0, 2, 2, 0, 0, 0, 2, 0, 0, 0, 0, 2, 0, 0, 2, 2, 2, 2, 0, 2, 1, 0, 0, 2, 1, 2, 2, 0, 1, 0, 0, 2, 0, 2, 0, 2, 2, 2, 2, 2, 0, 1, 0, 1, 2, 2, 0, 0, 2, 1, 2, 1, 2, 0, 2, 2, 2, 2, 0, 0, 0, 2, 2, 1, 0, 1, 0, 2, 0, 0, 0, 2, 2, 2, 2, 1, 0, 0, 0, 2, 2, 0, 0, 2, 2, 0, 0, 2, 2, 0, 0, 0, 0, 2, 0, 0, 2, 0, 0, 2, 2, 2, 0, 2, 0, 0, 0, 0, 0, 0, 0, 0, 1, 2, 2, 2, 2, 2, 0, 1, 0, 0, 2, 2, 2, 0, 0, 2, 2, 0, 2, 2, 0, 0, 0, 2, 0, 2, 0, 1, 2, 0, 0, 0, 2, 0, 2, 2, 0, 0, 2, 2, 0, 0, 2, 2, 2, 2, 0, 0, 0, 2, 0, 2, 2, 2, 0, 0, 2, 0, 1, 0, 1, 2, 2, 0, 2, 0, 2, 0, 2, 0, 0, 2, 0, 2, 2, 2, 2, 0, 1, 2, 2, 0, 0, 0, 0, 2, 0, 2, 2, 0, 2, 2, 0, 2, 2, 2, 2, 2, 0, 2, 0, 2, 0, 0, 2, 0, 0, 0, 0, 2, 2, 0, 0, 0, 2, 0, 2, 0, 2, 2, 0, 2, 0, 2, 2, 2, 2, 2, 0, 2, 2, 0, 2, 1, 0, 2, 0, 2, 1, 2, 2, 0, 2, 2, 0, 0, 2, 0, 0, 2, 2, 0, 2, 2, 2, 0, 0, 0, 2, 1, 1, 2, 2, 0, 0, 0, 0, 2, 0, 1, 0, 0, 0, 2, 0, 2, 0, 1, 2, 1, 2, 0, 2, 2, 2, 0, 0, 2, 2, 2, 0, 2, 0, 2, 0, 0, 0, 2, 0, 2, 2, 2, 0, 2, 0, 0, 2, 0, 0, 0, 1, 0, 0, 2, 2, 2, 0, 2, 2, 1, 2, 1, 2, 2, 2, 0, 2, 2, 0, 2, 0, 2, 0, 1, 2, 0, 2, 2, 2, 2, 1, 1, 2, 2, 0, 2, 2, 0, 2, 0, 2, 0, 0, 2, 1, 0, 0, 2, 1, 1, 2, 2, 0, 0, 0, 1, 2, 0, 0, 0, 0, 1, 2, 2, 2, 0, 0, 0, 1, 2, 0, 2, 2, 2, 2, 0, 2, 0, 2, 2, 0, 2, 0, 0, 2, 2, 2, 0, 0, 0, 0, 0, 0, 2, 2, 0, 0, 0, 2, 2, 2, 0, 0, 1, 2, 0, 0, 1, 2, 0, 1, 2, 2, 2, 0, 2, 2, 0, 2, 2, 2, 2, 0, 0, 0, 2, 2, 0, 0, 0, 1, 0, 0, 1, 0, 2, 2, 2, 0, 2, 2, 0, 1, 0, 2, 2, 2, 0, 2, 0, 2, 1, 2, 0, 0, 0, 2, 2, 0, 2, 0, 0, 2, 2, 0, 1, 2, 0, 2, 1, 2, 2, 0, 2, 2, 0, 2, 0, 1, 2, 2, 0, 0, 0, 0, 0, 2, 0, 0, 2, 0, 2, 0, 2, 0, 2, 0, 0, 0, 0, 0, 0, 2, 0, 2, 2, 0, 2, 2, 0, 0, 1, 2, 0, 1, 1, 0, 0, 2, 0, 2, 0, 0, 2, 2, 0, 1, 0, 0, 0, 2, 2, 2, 0, 0, 0, 0, 2, 2, 2, 0, 2, 2, 2, 2, 2, 2, 2, 2, 0, 2, 2, 0, 0, 0, 1, 0, 1, 0, 2, 0, 2, 2, 2, 2, 0, 0, 2, 1, 1, 2, 1, 0, 2, 0, 0, 0, 2, 0, 0, 0, 0, 2, 2, 0, 2, 2, 1, 2, 0, 0, 0, 0, 2, 0, 0, 1, 0, 0, 2, 0, 2, 1, 2, 0, 0, 2, 0, 0, 0, 0, 0, 2, 0, 2, 2, 2, 2, 0, 0, 2, 2, 0, 2, 2, 0, 0, 2, 0, 2, 0, 0, 0, 2, 2, 0, 0, 1, 2, 2, 0, 2, 2, 2, 0, 2, 2, 0, 1, 0, 0, 0, 1, 2, 2, 2, 2, 2, 0, 2, 0, 2, 0, 2, 2, 2, 1, 2, 2, 2, 0, 0, 2, 0, 2, 2, 0, 2, 0, 0, 1, 2, 2, 0, 2, 0, 2, 2, 0, 0, 2, 2, 2, 0, 2, 0, 2, 2, 2, 0, 2, 2, 1, 0, 2, 1, 0, 1, 0, 0, 0, 2, 2, 2, 2, 2, 0, 0, 2, 2, 0, 2, 0, 0, 0, 2, 2, 0, 1, 0, 1, 0, 2, 1, 2, 2, 0, 2, 2, 0, 1, 0, 2, 0, 2, 2, 2, 2, 2, 0, 2, 0, 0, 2, 1, 2, 0, 0, 2, 2, 1, 0, 2, 0, 0, 0, 0, 0, 1, 1, 2, 1, 1, 0, 0, 2, 2, 0, 2, 2, 2, 1, 1, 2, 0, 0, 0, 0, 2, 2, 2, 2, 2, 2, 1, 0, 0, 2, 0, 2, 2, 0, 2, 0, 2, 1, 2, 0, 1, 0, 2, 0, 0, 0, 1, 2, 2, 2, 0, 0, 2, 0, 2, 2, 0, 2, 0, 2, 0, 2, 2, 0, 0, 2, 0, 2, 2, 2, 2, 0, 0, 0, 2, 0, 2, 2, 2, 2, 2, 2, 0, 2, 0, 0, 2, 0, 2, 2, 2, 0, 2, 2, 0, 2, 0, 0, 0, 0, 0, 2, 2, 0, 2, 0, 0, 2, 1, 2, 0, 2, 2, 2, 2, 0, 2, 1, 2, 0, 0, 0, 0, 0, 2, 0, 0, 1, 2, 0, 0, 2, 2, 0, 2, 0, 0, 0, 2, 2, 2, 2, 0, 0, 2, 2, 2, 2, 0, 2, 0, 0, 0, 2, 0, 1, 0, 2, 1, 2, 2, 2, 0, 0, 2, 0, 2, 2, 2, 2, 0, 0, 2, 2, 0, 2, 0, 1, 2, 0, 0, 1, 0, 2, 0, 2, 2, 2, 2, 0, 0, 0, 0, 0, 2, 2, 0, 0, 0, 0, 0, 2, 2, 2, 2, 0, 2, 0, 2, 0, 0, 0, 0, 0, 2, 2, 2, 2, 2, 2, 0, 0, 1, 2, 0, 2, 1, 2, 2, 2, 0, 0, 0, 2, 2, 2, 0, 2, 2, 1, 0, 0, 2, 2, 2, 1, 2, 1, 1, 2, 0, 2, 2, 2, 2, 2, 0, 0, 0, 2, 0, 2, 2, 2, 0, 1, 0, 0, 0, 0, 2, 0, 0, 2, 2, 0, 2, 0, 2, 2, 1, 0, 2, 0, 0, 2, 0, 0, 2, 0, 0, 2, 2, 0, 2, 0, 0, 2, 2, 2, 0, 2, 2, 2, 2, 2, 2, 1, 2, 2, 2, 2, 0, 0, 0, 1, 2, 1, 0, 1, 0, 0, 1, 2, 0, 2, 0]\n"
          ]
        }
      ]
    },
    {
      "cell_type": "code",
      "source": [
        "def compute_metrics(predictions, real_values):\n",
        "  precisions = []\n",
        "  recalls = []\n",
        "  f1_scores = []\n",
        "\n",
        "  for i in range(3):\n",
        "    class_preds = list(map(lambda x: 1 if x==i else 0, predictions))\n",
        "    class_values = list(map(lambda x: 1 if x==i else 0, real_values))\n",
        "    precisions.append(precision_score(class_values, class_preds))\n",
        "    recalls.append(recall_score(class_values, class_preds))\n",
        "    f1_scores.append(f1_score(class_values, class_preds))\n",
        "\n",
        "  scores_df = pd.DataFrame({'Metric' : ['Precision' , 'Precision', 'Precision', 'Recall', 'Recall', 'Recall', 'F1-Score', 'F1-Score', 'F1-Score'], \n",
        "                            'Class' : ['Neutral', 'Negative', 'Positive', 'Neutral', 'Negative', 'Positive', 'Neutral', 'Negative', 'Positive'],\n",
        "                            'Score' : precisions + recalls + f1_scores})\n",
        "  \n",
        "  plt.figure(figsize=(10, 5), dpi=100)\n",
        "  plt.title('Metrics')\n",
        "  plt.rc('axes', axisbelow=True)\n",
        "  plt.grid(zorder=0)\n",
        "  sns.barplot(y='Score', x='Metric', hue='Class', data=scores_df)\n",
        "  plt.show()\n",
        "\n",
        "  print('Total Precision: ' + str(precision_score(real_values, predictions, average='weighted')))\n",
        "  print('Total Recall: ' + str(recall_score(real_values, predictions, average='weighted')))\n",
        "  print('Total F1-Score: ' + str(f1_score(real_values, predictions, average='weighted')))\n",
        "\n",
        "  fig, ax = plt.subplots(figsize=(10, 5), dpi=100)\n",
        "  plt.title('Confusion Matrix')\n",
        "  ConfusionMatrixDisplay.from_predictions(real_values, predictions, ax=ax)\n",
        "  plt.show()\n",
        "\n",
        "compute_metrics(predictions, real_values)"
      ],
      "metadata": {
        "colab": {
          "base_uri": "https://localhost:8080/",
          "height": 995
        },
        "id": "rSud9FK72qb-",
        "outputId": "903add17-5652-4f6c-d0f6-7d7a4cacd896"
      },
      "execution_count": 9,
      "outputs": [
        {
          "output_type": "display_data",
          "data": {
            "image/png": "[encoded data removed]",
            "text/plain": [
              "<Figure size 1000x500 with 1 Axes>"
            ]
          },
          "metadata": {
            "needs_background": "light"
          }
        },
        {
          "output_type": "stream",
          "name": "stdout",
          "text": [
            "Total Precision: 0.7650814276727885\n",
            "Total Recall: 0.7633654688869412\n",
            "Total F1-Score: 0.7606471187374727\n"
          ]
        },
        {
          "output_type": "display_data",
          "data": {
            "image/png": "[encoded data removed]",
            "text/plain": [
              "<Figure size 1000x500 with 2 Axes>"
            ]
          },
          "metadata": {
            "needs_background": "light"
          }
        }
      ]
    }
  ]
}